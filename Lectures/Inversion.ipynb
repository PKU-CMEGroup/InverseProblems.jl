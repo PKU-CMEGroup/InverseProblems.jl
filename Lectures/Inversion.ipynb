{
 "cells": [
  {
   "cell_type": "markdown",
   "metadata": {},
   "source": [
    "# Inversion\n",
    "Consider the [inverse problem](Bayesian.ipynb)\n",
    "\n",
    "$$y = \\mathcal{G}(\\theta) + \\eta$$\n",
    "\n",
    "Here $\\mathcal{G} : R^{N_{\\theta}} \\mapsto R^{N_y}$ denotes the parameter to observation map, and the observational noise $\\eta$, is assumed to be drawn from a Gaussian with distribution $\\mathcal{N}(0,\\Sigma_{\\eta})$.\n",
    "\n",
    "\n",
    "Filtering methods may be deployed to approximate the posterior distribution or the maximum a posteriori (MAP).\n",
    "The inverse problem is first paired with a dynamical system for the parameter, leading to a hidden\n",
    "Markov model, to which filtering methods may be applied. "
   ]
  },
  {
   "cell_type": "markdown",
   "metadata": {},
   "source": [
    "# Kalman inversion\n",
    "\n",
    "In its most basic form, the\n",
    "hidden Markov model takes the form\n",
    "$$ \n",
    "\\begin{align*}\n",
    "&\\theta_{k+1} = \\theta_k\\\\\n",
    "&y_{k+1} = \\mathcal{G}(\\theta_k) + \\eta_{k+1}\n",
    "\\end{align*}\n",
    "$$\n"
   ]
  },
  {
   "cell_type": "markdown",
   "metadata": {},
   "source": [
    "## One-Step Kalman Filtering\n",
    "\n",
    "Start with the prior\n",
    "$$\\rho_{\\rm prior}(\\theta) \\sim \\mathcal{N}(r_0, \\Sigma_0)$$\n",
    "We first construct the joint distribution (projected onto the nearest Gaussian)\n",
    "$$\n",
    "\\begin{align*}\n",
    "&\\rho\\big(\\theta, y_1\\big) \\approx \\mathcal{N}\\Big(\n",
    "    \\begin{bmatrix}\n",
    "    r_{0}\\\\\n",
    "    \\hat{y}\n",
    "    \\end{bmatrix}, \n",
    "    \\begin{bmatrix}\n",
    "  \\Sigma_{0} & \\hat{C}^{\\theta y}\\\\\n",
    "    {\\hat{C}^{\\theta y}}{}^{T} & \\hat{C}^{y y}\n",
    "    \\end{bmatrix}\n",
    "    \\Big) \\\\\n",
    "\\end{align*}\n",
    "$$\n",
    "where \n",
    "$$\n",
    "\\hat{y}           = \\mathbb{E}[\\mathcal{G}(\\theta) + \\eta] = \\mathbb{E}[\\mathcal{G}(\\theta)]\\quad \n",
    "\\hat{C}^{\\theta y}= \\mathrm{Cov}[\\theta, \\mathcal{G}(\\theta) + \\eta] \\quad\n",
    "\\hat{C}^{y y}     = \\mathrm{Cov}[\\mathcal{G}(\\theta) + \\eta]\n",
    "$$\n",
    "\n",
    "Then we reach posterior (projected onto the nearest Gaussian), namely the conditional  distribution \n",
    "$$\n",
    "\\rho_{\\rm post}(\\theta) \\approx \\rho(\\theta\\,|\\, \\mathcal{G}(\\theta) + \\eta = y) = \\mathcal{N}(m_{\\rm post}, C_{\\rm post})\n",
    "$$\n",
    "where\n",
    "$$\n",
    "\\begin{equation}\n",
    "    \\begin{split}\n",
    "        m_{\\rm post} &= r_0 + \\hat{C}^{\\theta y} (\\hat{C}^{y y})^{-1} (y - \\hat{y}),\\\\\n",
    "        C_{\\rm post} &= \\Sigma_0 - \\hat{C}^{\\theta y}(\\hat{C}^{y y})^{-1} {\\hat{C}^{\\theta y}}{}^{T}.\n",
    "    \\end{split}\n",
    "\\end{equation}\n",
    "$$\n",
    "\n",
    "One-step Kalman filtering approach approximates the posterior distribution in one step \n",
    "$$\\rho_{\\rm prior} \\rightarrow \\rho_{\\rm post} \\propto \\rho_{\\rm prior} e^{-\\Phi(\\theta; y)}$$\n",
    "\n"
   ]
  },
  {
   "cell_type": "markdown",
   "metadata": {},
   "source": [
    "## Iterative Kalman Filtering[1,2]\n",
    "To improve one-step Kalman filtering, iterative Kalman filtering approach is proposed where\n",
    "$$\n",
    "\\begin{align*}\n",
    "    &\\rho_0(\\theta) = \\rho_{\\rm prior}(\\theta) \\\\\n",
    "    &\\rho_n(\\theta) \\rightarrow \\rho_{n+1}(\\theta) \\propto \\rho_n(\\theta)e^{-\\Delta t\\Phi(\\theta, y)} \\qquad N = \\frac{1}{\\Delta t}\n",
    "\\end{align*}\n",
    "$$\n",
    "\n",
    "Kalman filtering is iteratively applied to the dynamical systems for $N$ iterations\n",
    "$$ \n",
    "\\begin{align*}\n",
    "&\\theta_{k+1} = \\theta_k\\\\\n",
    "&y_{k+1} = \\mathcal{G}(\\theta_k) + \\eta_{k+1}\n",
    "\\end{align*}\n",
    "$$\n",
    "with $\\eta_{n+1} \\sim \\mathcal{N}(0, \\Delta t^{-1}\\Sigma_{\\eta})$\n",
    "\n",
    "Iterative Kalman filtering in general outperforms one-step Kalman filtering, however the temporal error would accumulate."
   ]
  },
  {
   "cell_type": "markdown",
   "metadata": {},
   "source": [
    "## Kalman Inversion (Optimization approach)[3]\n",
    "\n",
    "Kalman inversion aims to estimate the minimizer of \n",
    "$$ \\min \\Phi(\\theta, y) = \\frac{1}{2}\\lVert \\Sigma_{\\eta}^{-\\frac{1}{2}} (y - \\mathcal{G}(\\theta)) \\rVert^2 $$\n",
    "with \n",
    "$$\n",
    "\\begin{align*}\n",
    "    &\\rho_0(\\theta) = \\rho_{\\rm prior}(\\theta) \\\\\n",
    "    &\\rho_n(\\theta) \\rightarrow \\rho_{n+1}(\\theta) \\propto \\rho_n(\\theta)e^{-\\Phi(\\theta, y)} \n",
    "\\end{align*}\n",
    "$$\n",
    "\n",
    "Kalman filtering is iteratively applied to the dynamical systems for $N$ iterations\n",
    "$$ \n",
    "\\begin{align*}\n",
    "&\\theta_{k+1} = \\theta_k\\\\\n",
    "&y_{k+1} = \\mathcal{G}(\\theta_k) + \\eta_{k+1}\n",
    "\\end{align*}\n",
    "$$\n",
    "with $\\eta_{n+1} \\sim \\mathcal{N}(0, \\Sigma_{\\eta})$\n",
    "\n",
    "Kalman inversion converges to the minimizer, which is also the MAP with uniformative prior. However, numerical issues might occur, since the covariance converges to 0."
   ]
  },
  {
   "cell_type": "markdown",
   "metadata": {},
   "source": [
    "# Reference\n",
    "1. [Inverse theory for petroleum reservoir characterization and history matching](https://ui.adsabs.harvard.edu/abs/2008itpr.book.....O/abstract)\n",
    "2. [Ensemble randomized maximum likelihood method as an iterative ensemble smoother](https://link.springer.com/article/10.1007/s11004-011-9376-z)\n",
    "3. [Ensemble Kalman methods for inverse problems](https://iopscience.iop.org/article/10.1088/0266-5611/29/4/045001/meta)"
   ]
  },
  {
   "cell_type": "code",
   "execution_count": null,
   "metadata": {
    "vscode": {
     "languageId": "plaintext"
    }
   },
   "outputs": [],
   "source": []
  }
 ],
 "metadata": {
  "kernelspec": {
   "display_name": "Julia 1.5.3",
   "language": "julia",
   "name": "julia-1.5"
  },
  "language_info": {
   "file_extension": ".jl",
   "mimetype": "application/julia",
   "name": "julia",
   "version": "1.5.3"
  }
 },
 "nbformat": 4,
 "nbformat_minor": 4
}
