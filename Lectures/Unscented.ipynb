{
 "cells": [
  {
   "cell_type": "markdown",
   "metadata": {},
   "source": [
    "# Unscented Kalman Inversion\n",
    "\n",
    "When the [unscented Kalman filter](Kalman.ipynb) is applied, the conceptual Gaussian approximation algorithm becomes \n",
    "\n",
    "* Prediction step :\n",
    "\n",
    "    $$\\begin{align*}\n",
    "    \\hat{m}_{n+1} = & r+\\alpha(m_n-r)\\\\\n",
    "    \\hat{C}_{n+1} = & \\alpha^2 C_{n} + \\Sigma_{\\omega}\n",
    "    \\end{align*}$$\n",
    "    \n",
    "* Generate sigma points :\n",
    "    \n",
    "    $$\\begin{align*}\n",
    "    &\\hat{\\theta}_{n+1}^0 = \\hat{m}_{n+1} \\\\\n",
    "    &\\hat{\\theta}_{n+1}^j = \\hat{m}_{n+1} + c_j [\\sqrt{\\hat{C}_{n+1}}]_j \\quad (1\\leq j\\leq N_\\theta)\\\\ \n",
    "    &\\hat{\\theta}_{n+1}^{j+N_\\theta} = \\hat{m}_{n+1} - c_j [\\sqrt{\\hat{C}_{n+1}}]_j\\quad (1\\leq j\\leq N_\\theta)\n",
    "    \\end{align*}$$\n",
    "    \n",
    "*  Analysis step :\n",
    "\n",
    "   $$\\begin{align*}\n",
    "        &\\hat{y}^j_{n+1} = \\mathcal{G}(\\hat{\\theta}^j_{n+1}) \\qquad \\hat{y}_{n+1} = \\hat{y}^0_{n+1}\\\\\n",
    "         &\\hat{C}^{\\theta p}_{n+1} = \\sum_{j=1}^{2N_\\theta}W_j^{c}\n",
    "        (\\hat{\\theta}^j_{n+1} - \\hat{m}_{n+1} )(\\hat{y}^j_{n+1} - \\hat{y}_{n+1})^T \\\\\n",
    "        &\\hat{C}^{pp}_{n+1} = \\sum_{j=1}^{2N_\\theta}W_j^{c}\n",
    "        (\\hat{y}^j_{n+1} - \\hat{y}_{n+1} )(\\hat{y}^j_{n+1} - \\hat{y}_{n+1})^T + \\Sigma_{\\nu}\\\\\n",
    "        &m_{n+1} = \\hat{m}_{n+1} + \\hat{C}^{\\theta p}_{n+1}(\\hat{C}^{pp}_{n+1})^{-1}(y - \\hat{y}_{n+1})\\\\\n",
    "        &C_{n+1} = \\hat{C}_{n+1} - \\hat{C}^{\\theta p}_{n+1}(\\hat{C}^{pp}_{n+1})^{-1}{\\hat{C}^{\\theta p}_{n+1}}{}^{T}\\\\\n",
    "    \\end{align*}$$\n",
    "\n"
   ]
  },
  {
   "cell_type": "markdown",
   "metadata": {},
   "source": [
    "## Hyperparameters \n",
    "\n",
    "The free parameters in the unscented Kalman inversion are\n",
    "\n",
    "$$\\alpha, r, \\Sigma_{\\nu}, \\Sigma_{\\omega}$$\n",
    "\n",
    "They are chosen based on theorems developed in [1][2].\n",
    "\n",
    "* $r$ is generally set to be the prior mean\n",
    "\n",
    "* $\\alpha \\in (0,1]$ is a regularization parameter, which is used to overcome ill-posedness and overfitting. A practical guide is \n",
    "\n",
    "    * When the observation noise is negligible, and there are more observations than parameters (identifiable inverse problem) $\\alpha = 1$ (no regularization)\n",
    "    * Otherwise $\\alpha < 1$. The smaller $\\alpha$ is, the closer UKI will converge to the prior mean.\n",
    "    \n",
    "* $\\Sigma_{\\nu}$ is the artificial observation errror covariance. We choose $\\Sigma_{\\nu} = 2 \\Sigma_{\\eta}$, which makes the inverse problem consistent. \n",
    "\n",
    "* $\\Sigma_{\\omega}$ is the artificial evolution errror covariance. We choose $\\Sigma_{\\omega} = (2 - \\alpha^2)\\Lambda$\n",
    "\n",
    "    * When there are more observations than parameters (identifiable inverse problem), $\\Lambda = C_n$, which is updated as the estimated covariance $C_n$ in the $n$-thevery iteration . This guarantees the converged covariance matrix is a good approximation to the posterior covariance matrix with an uninformative prior.\n",
    "    \n",
    "    * Otherwise $\\Lambda = C_0$, this allows that the converged covariance matrix is a weighted average between the posterior covariance matrix with an uninformative prior and $C_0$.\n",
    "\n",
    "\n",
    "1. Daniel Z. Huang, Tapio Schneider, and Andrew M. Stuart. \"[Unscented Kalman Inversion](https://arxiv.org/pdf/2102.01580.pdf).\"\n",
    "\n",
    "2. Daniel Z. Huang, Jiaoyang Huang. \"[Unscented Kalman Inversion: Efficient Gaussian Approximation to the Posterior Distribution](https://arxiv.org/pdf/2103.00277.pdf).\""
   ]
  },
  {
   "cell_type": "markdown",
   "metadata": {},
   "source": [
    "# UKI with High Dimensional Parameter Space"
   ]
  }
 ],
 "metadata": {
  "kernelspec": {
   "display_name": "Julia 1.5.3",
   "language": "julia",
   "name": "julia-1.5"
  },
  "language_info": {
   "file_extension": ".jl",
   "mimetype": "application/julia",
   "name": "julia",
   "version": "1.5.3"
  }
 },
 "nbformat": 4,
 "nbformat_minor": 4
}
