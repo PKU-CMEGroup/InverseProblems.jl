{
 "cells": [
  {
   "cell_type": "markdown",
   "metadata": {},
   "source": [
    "# Stein Variational Inference\n",
    "\n",
    "Stein variational gradient descent and its variants are nonparametric variational inference approaches, where the variational distribution is represented by an ensemble of particles."
   ]
  },
  {
   "cell_type": "markdown",
   "metadata": {},
   "source": [
    "## Stein variational gradient descent [1]\n",
    "\n",
    "To start this section, readers need to be familiar with [probability density function space and its associated metric tensor](PDFSpace.ipynb). Let define the KL divergence function on the density space $\\mathcal{P}(\\Omega)$\n",
    "$$\n",
    "\\begin{align*}\n",
    "\\mathcal{E}(\\rho_t) = KL\\Bigl[\\rho_{t} \\Big\\Vert  \\rho_{\\rm post}(\\theta | y)\\Bigr] = \\int\\rho_t\\log \\rho_t d\\theta - \\int\\rho_t\\log \\rho_{\\rm post}(\\theta | y)d\\theta\n",
    "\\end{align*}\n",
    "$$\n",
    "\n",
    "Its functional derivative is\n",
    "\n",
    "$$\n",
    "\\begin{align*}\n",
    "\\frac{\\delta \\mathcal{E}}{\\delta \\rho_t} \n",
    "=  \\log \\rho_t + 1  - \\log \\rho_{\\rm post}(\\theta | y)\n",
    "\\end{align*}\n",
    "$$\n",
    "\n",
    "\n",
    "\n",
    "Let define **Stein metric**\n",
    "\n",
    "$$\n",
    "G(\\rho)^{-1} \\Phi = - \\nabla\\cdot\\Bigl(\\rho\\int \\kappa(\\theta,\\theta')\\rho(\\theta')\\nabla_{\\theta'}\\Phi(\\theta')d\\theta' \\Bigr), \\qquad  \\Phi \\in T_{\\rho}^{*}\\mathcal{P}\n",
    "$$\n",
    "\n",
    "The distance between $\\rho^A$ and $\\rho^B$ becomes\n",
    "\n",
    "$$\n",
    "\\begin{align*}\n",
    "{\\rm dist}(\\rho^A, \\rho^B) &= \\min_{\\Phi \\in T_{\\rho}^{*}\\mathcal{P}} \\int_{t=0}^{t=1} g_{\\rho_t}(G(\\rho_t)^{-1} \\Phi, G(\\rho_t)^{-1} \\Phi) dt \\\\\n",
    "&= \\min_{\\Phi \\in T_{\\rho}^{*}\\mathcal{P}} \\int_{t=0}^{t=1} \\int \\int \\kappa(\\theta, \\theta') \\rho_t(\\theta)\\rho_t(\\theta') \\nabla_{\\theta'}\\Phi(\\theta') \\nabla_{\\theta} \\Phi(\\theta) d\\theta d\\theta' dt\\\\\n",
    "&s.t. \\qquad \\frac{\\partial \\rho_t}{\\partial t} + \\nabla\\cdot\\Bigl(\\rho_t\\int \\kappa(\\theta,\\theta')\\rho_t(\\theta')\\nabla_{\\theta'}\\Phi(\\theta')d\\theta' \\Bigr) = 0 \\qquad \\rho_0 = \\rho^A \\quad \\rho_1 = \\rho^B\n",
    "\\end{align*}\n",
    "$$\n",
    "\n",
    "For the Gradient descent of KL divergence, the density evolution equation becomes\n",
    "\n",
    "$$\n",
    "\\begin{align*}\n",
    "\\frac{\\partial \\rho_t(\\theta)}{\\partial t} \n",
    "&= \\nabla_{\\theta}\\cdot\\Bigl(\\rho_t\\int \\kappa(\\theta,\\theta')\\rho_t(\\theta')\\nabla_{\\theta'}\\bigl(\\log \\rho_{\\rm post}(\\theta' | y) - \\log \\rho_t(\\theta') - 1\\bigr)d\\theta' \\Bigr) \\\\\n",
    "&= -\\nabla_{\\theta}\\cdot\\Bigl(\\rho_t\\int \\kappa(\\theta,\\theta')\\rho_t(\\theta')\\nabla_{\\theta'}\\bigl(\\log \\rho(\\theta' , y) - \\log \\rho_t(\\theta')\\bigr)d\\theta' \\Bigr) \\\\\n",
    "&= \\nabla_{\\theta}\\cdot\\Bigl(\\rho_t F(\\theta) \\Bigr)\n",
    "\\end{align*}\n",
    "$$\n",
    "\n",
    "where the drift term (no diffusion term) is\n",
    "\n",
    "$$\n",
    "\\begin{align*}\n",
    "F(\\theta) &= \\int \\bigl(-\\rho_t(\\theta')\\nabla_{\\theta} \\Phi_R(\\theta';y) - \\nabla_{\\theta} \\rho_t(\\theta')\\bigr)  \\kappa(\\theta, \\theta')d\\theta'\\\\\n",
    "          &= \\int -\\rho_t(\\theta')\\nabla_{\\theta} \\Phi_R(\\theta';y)\\kappa(\\theta, \\theta') + \\nabla_{\\theta}\\kappa(\\theta, \\theta')  \\rho_t(\\theta')  d\\theta'\\\\\n",
    "          &\\approx  \\frac{1}{J}\\sum_{j=1}^{J}-\\nabla_{\\theta} \\Phi_R(\\theta^j;y)\\kappa(\\theta, \\theta^j) + \\nabla_{\\theta}\\kappa(\\theta, \\theta^j)\n",
    "\\end{align*}\n",
    "$$\n",
    "\n",
    "\n",
    "\n",
    "### Connection to Langevin dynamics\n",
    "\n",
    "Consider the following [initial value Ito process](Langevin.ipynb)\n",
    "\n",
    "$$\n",
    "\\begin{align*}\n",
    "d\\theta_t = F(t, \\theta_t) dt \\qquad (\\sigma = 0)\n",
    "\\end{align*}\n",
    "$$\n",
    "where \n",
    "$$\n",
    "\\begin{align*}\n",
    "F &= -A_t\\nabla_{\\theta} \\Phi_R(\\theta;y) - A_t\\nabla_{\\theta}\\log \\rho_t(\\theta) \\qquad A_t = \\rho_t(\\theta) I \\\\\n",
    "  &= -\\rho_t(\\theta)\\nabla_{\\theta} \\Phi_R(\\theta;y) - \\nabla_{\\theta} \\rho_t(\\theta) \n",
    "\\end{align*}\n",
    "$$\n",
    "\n",
    "The $KL$-divergence becomes \n",
    "\n",
    "$$\n",
    "\\begin{align*}\n",
    "\\frac{\\partial}{\\partial t}KL\\Bigl[\\rho_{t}(\\theta) \\Vert  \\rho_{\\rm post}(\\theta | y)\\Bigr]\n",
    "&= -\\int \\rho_t(\\theta)^2 \\bigl(\\nabla_{\\theta} \\Phi_R(\\theta; y) + \\nabla_{\\theta} \\log \\rho_t(\\theta)\\bigr)^T \\bigl(\\nabla_{\\theta} \\Phi_R(\\theta; y) + \\nabla_{\\theta} \\log \\rho_t(\\theta)\\bigr) d\\theta  = -\\int F^T F d\\theta\\\\\n",
    "\\end{align*}\n",
    "$$\n",
    "\n",
    "As for implementation, an ensemble of particles $\\{\\theta^j\\}_{j}^{J}$ and the associated Dirac Delta density are used, and the drift direction is projected in the reproducing kernel Hilbert space (RKHS) with kernel $\\kappa$.\n",
    "\n",
    "$$\n",
    "\\begin{align*}\n",
    "F(\\theta) &= \\int F(\\theta')\\kappa(\\theta, \\theta') d\\theta' \\\\\n",
    "          &= \\int \\bigl(-\\rho_t(\\theta')\\nabla_{\\theta} \\Phi_R(\\theta';y) - \\nabla_{\\theta} \\rho_t(\\theta')\\bigr)  \\kappa(\\theta, \\theta')d\\theta'\\\\\n",
    "          &= \\int -\\rho_t(\\theta')\\nabla_{\\theta} \\Phi_R(\\theta';y)\\kappa(\\theta, \\theta') + \\nabla_{\\theta}\\kappa(\\theta, \\theta')  \\rho_t(\\theta')  d\\theta'\\\\\n",
    "          &\\approx  \\frac{1}{J}\\sum_{j=1}^{J}-\\nabla_{\\theta} \\Phi_R(\\theta^j;y)\\kappa(\\theta, \\theta^j) + \\nabla_{\\theta}\\kappa(\\theta, \\theta^j)\n",
    "\\end{align*}\n",
    "$$\n",
    "\n",
    "here we use that $\\rho_t = \\frac{1}{J}\\sum_{j=1}^{J} \\delta(\\theta - \\theta^j)$."
   ]
  },
  {
   "cell_type": "markdown",
   "metadata": {},
   "source": [
    "## Stein variational Newton [2]\n",
    "\n",
    "TODO"
   ]
  },
  {
   "cell_type": "markdown",
   "metadata": {},
   "source": [
    "# Reference\n",
    "1. [Stein Variational Gradient Descent: A General Purpose Bayesian Inference Algorithm](https://proceedings.neurips.cc/paper/2016/file/b3ba8f1bee1238a2f37603d90b58898d-Paper.pdf)\n",
    "2. [A Stein Variational Newton method](https://proceedings.neurips.cc/paper/2018/file/fdaa09fc5ed18d3226b3a1a00f1bc48c-Paper.pdf)"
   ]
  },
  {
   "cell_type": "code",
   "execution_count": null,
   "metadata": {
    "vscode": {
     "languageId": "plaintext"
    }
   },
   "outputs": [],
   "source": []
  }
 ],
 "metadata": {
  "kernelspec": {
   "display_name": "Julia 1.5.3",
   "language": "julia",
   "name": "julia-1.5"
  },
  "language_info": {
   "file_extension": ".jl",
   "mimetype": "application/julia",
   "name": "julia",
   "version": "1.5.3"
  }
 },
 "nbformat": 4,
 "nbformat_minor": 4
}
