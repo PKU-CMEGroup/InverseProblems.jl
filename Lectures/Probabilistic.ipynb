{
 "cells": [
  {
   "cell_type": "markdown",
   "metadata": {},
   "source": [
    "# Probabilistic approaches\n",
    "\n",
    "Probabilistic approaches aim to sample posterior distribution with an unknown normalization constant:\n",
    "\n",
    "$$ \n",
    "\\begin{align*}\n",
    "p(\\theta|y) &= \\frac{p(y | \\theta) p(\\theta)}{p(y)}\\\\\n",
    "&= \\frac{1}{Z(y)} e^{-\\Phi(\\theta , y) } p_0(\\theta) \n",
    "\\end{align*}\n",
    "$$\n",
    "\n",
    "where $p_0(\\theta)$ is the prior distribution of $\\theta$ and $Z(y)$ is the normalization constant:\n",
    "\n",
    "$$ Z(y) =  \\int e^{-\\Phi(\\theta , y) } p_0(\\theta) d\\theta $$\n",
    "\n",
    "\n",
    "There are three major avenues to approximate the posterior distribution:  \n",
    "1. Variational inference, where a parameterized approximate density $q(\\theta)$ is constructed and optimized to minimize the distance to the posterior density:\n",
    "    $$ \\min D\\big(q(\\theta)\\,||\\,p_{\\rm post}(\\theta)\\big) $$\n",
    "\n",
    "2. Those based on Invariant and ergodic measures, where a transition kernel $\\psi_{\\rm I}(\\theta', \\theta)$ is constructed, such that \n",
    "    $$ p_{\\rm post}(\\theta) = \\int \\psi_{\\rm I}(\\theta', \\theta) p_{\\rm post}(\\theta') d\\theta' $$\n",
    "    that is, the posterior distribution $p_{\\rm post}(\\theta)$ is  invariant with respect to the transition kernel. Furthermore, starting from any initial distribution the associated Markov chain should approach the invariant measure $p_{\\rm post}(\\theta)$ asymptotically. \n",
    "    \n",
    "3. Those based on coupling ideas (mostly in the form of coupling the prior with the  posterior), where a transition kernel $\\psi_{\\rm C}(\\theta',\\theta)$ is constructed, such that \n",
    "    $$ \\rho_{\\rm post}(\\theta) = \\int \\psi_{\\rm C}(\\theta',\\theta)\n",
    "    \\rho_{\\rm prior}(\\theta')d\\theta' $$\n",
    "    The transition kernel forms a coupling between the prior and the posterior distribution and is applied only once. "
   ]
  }
 ],
 "metadata": {
  "kernelspec": {
   "display_name": "Julia 1.9.3",
   "language": "julia",
   "name": "julia-1.9"
  },
  "language_info": {
   "file_extension": ".jl",
   "mimetype": "application/julia",
   "name": "julia",
   "version": "1.9.3"
  }
 },
 "nbformat": 4,
 "nbformat_minor": 4
}
