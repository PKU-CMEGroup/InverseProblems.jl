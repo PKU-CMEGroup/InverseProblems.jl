{
 "cells": [
  {
   "cell_type": "code",
   "execution_count": 1,
   "metadata": {},
   "outputs": [
    {
     "data": {
      "text/plain": [
       "aug_forward (generic function with 1 method)"
      ]
     },
     "execution_count": 1,
     "metadata": {},
     "output_type": "execute_result"
    }
   ],
   "source": [
    "using LinearAlgebra\n",
    "using Distributions\n",
    "using Random\n",
    "using SparseArrays\n",
    "using JLD2\n",
    "\n",
    "include(\"../../Inversion/Plot.jl\")\n",
    "include(\"../../Inversion/KalmanInversion.jl\")\n",
    "include(\"../../Fluid/Darcy-2D.jl\")\n"
   ]
  },
  {
   "cell_type": "markdown",
   "metadata": {},
   "source": [
    "# 2D Darcy Flow\n",
    "\n",
    "Consider the Darcy flow equation on the two-dimensional spatial domain $D=[0,1]^2$, which describes the pressure field $p(x)$ in a porous medium defined by a positive permeability field $a(x,\\theta)$:\n",
    "\n",
    "$$\n",
    "\\begin{align*}\n",
    "    -\\nabla \\cdot (a(x, \\theta) \\nabla p(x)) &= f(x), \\quad &&x\\in D,\\\\\n",
    "    p(x) &= 0, \\quad &&x\\in \\partial D.\n",
    "\\end{align*}\n",
    "$$\n",
    "\n",
    "For simplicity, Dirichlet boundary conditions on the pressure are applied on $\\partial D$. The fluid source field $f$ is defined as\n",
    "\n",
    "$$\n",
    "\\begin{align*}\n",
    "    f(x_1, x_2) = \\begin{cases}\n",
    "               1000 & 0 \\leq x_2 \\leq \\frac{4}{6}\\\\\n",
    "               2000 & \\frac{4}{6} < x_2 \\leq \\frac{5}{6}\\\\\n",
    "               3000 & \\frac{5}{6} < x_2 \\leq 1\\\\\n",
    "            \\end{cases}. \n",
    "\\end{align*}\n",
    "$$\n",
    "\n",
    "\n",
    "\n",
    "The equation is solved by the finite difference method similar with the [one-dimensional Darcy flow problem](../Posterior/Darcy-1D.ipynb), where computational domain is discretized by a $N \\times N$ uniform grid ($N=80$ for the present study).\n"
   ]
  },
  {
   "cell_type": "markdown",
   "metadata": {},
   "source": [
    "## Random log-Gaussian Field\n",
    "\n",
    "Assuming that $\\log a(x, \\theta)$ is a centred Gaussian with covariance \n",
    "$$\\mathsf{C} = (-\\Delta + \\tau^2 )^{-d};$$\n",
    "here $-\\Delta$ denotes the Laplacian on $D$ subject to homogeneous Neumann boundary conditions on the space of spatial-mean zero functions, \n",
    "$\\tau > 0$ denotes the inverse length scale of the random field and $d  > 0$ determines its regularity.\n",
    "The Gaussian field can be represented by the Karhunen–Loève (KL) expansion\n",
    "\n",
    "\\begin{equation}\n",
    "\\label{eq:KL-2d}\n",
    "    \\log a(x,\\theta) = \\sum_{l\\in K} \\theta_{(l)}\\sqrt{\\lambda_l} \\psi_l(x),\n",
    "\\end{equation}\n",
    "where $K = \\mathcal{Z}^{0+}\\times\\mathcal{Z}^{0+} \\setminus \\{0,0\\}$, and the eigenpairs are of the form\n",
    "\n",
    "$$\n",
    "\\begin{equation*}\n",
    "    \\psi_l(x) = \\begin{cases}\n",
    "                 \\sqrt{2}\\cos(\\pi l_1 x_1)              & l_2 = 0\\\\\n",
    "                 \\sqrt{2}\\cos(\\pi l_2 x_2)              & l_1 = 0\\\\\n",
    "                 2\\cos(\\pi l_1 x_1)\\cos(\\pi l_2 x_2)    & \\textrm{otherwise}\\\\\n",
    "                 \\end{cases},\n",
    "                 \\qquad \\lambda_l = (\\pi^2 |l|^2 + \\tau^2)^{-d}\n",
    "\\end{equation*}\n",
    "$$\n",
    "\n",
    "and $\\theta_{(l)} \\sim \\mathcal{N}(0,1)$ i.i.d. The KL expansion can be rewritten as a sum over $\\mathcal{Z}^{0+}$ rather than a lattice: \n",
    "\n",
    "$$\n",
    "\\begin{equation}\n",
    "\\label{eq:KL-1d}\n",
    "    \\log a(x,\\theta) = \\sum_{k\\in \\mathcal{Z}^{0+}} \\theta_{(k)}\\sqrt{\\lambda_k} \\psi_k(x),\n",
    "\\end{equation}\n",
    "$$\n",
    "\n",
    "where the eigenvalues $\\lambda_k$ are in descending order.\n",
    "In practice, we truncate this sum to $N_\\theta$ terms, based on the\n",
    "largest $N_\\theta$ eigenvalues, and hence $\\theta\\in\\mathcal{R}^{N_\\theta}$.\n",
    " \n"
   ]
  },
  {
   "cell_type": "markdown",
   "metadata": {},
   "source": [
    "## Inverse Problem Setup\n",
    "\n",
    "For the inverse problem, we recover the log-permeability field $\\log a_{{ref}}(x)$ from the observation \n",
    "$y_{ref}$, which consists of pointwise measurements of the \n",
    "pressure value $p(x)$ at $49$ equidistant points in the domain. \n",
    "\n",
    "\n",
    "We generate a truth random field $\\log a_{{ref}}(x)$ with $\\theta \\sim \\mathcal{N}(0, I)$ in $\\mathcal{R}^{128}$ \n",
    "(i.e. we use the first $128$ KL modes) to construct the observation $y_{obs}$.\n"
   ]
  },
  {
   "cell_type": "code",
   "execution_count": 2,
   "metadata": {},
   "outputs": [
    {
     "data": {
      "text/plain": [
       "plot_field (generic function with 3 methods)"
      ]
     },
     "execution_count": 2,
     "metadata": {},
     "output_type": "execute_result"
    }
   ],
   "source": [
    "#=\n",
    "A hardcoding source function, \n",
    "which assumes the computational domain is\n",
    "[0 1]×[0 1]\n",
    "f(x,y) = f(y),\n",
    "which dependes only on y\n",
    "=#\n",
    "function compute_f_2d(yy::Array{FT, 1}) where {FT<:AbstractFloat}\n",
    "    N = length(yy)\n",
    "    f_2d = zeros(FT, N, N)\n",
    "\n",
    "    for i = 1:N\n",
    "            f_2d[:,i] .= 1000.0 * sin(4pi*yy[i])\n",
    "    end\n",
    "    return f_2d\n",
    "end\n",
    "\n",
    "\n",
    "function generate_θ_KL(xx::Array{FT,1}, N_KL::IT, d::FT=2.0, τ::FT=3.0; seed::IT=123) where {FT<:AbstractFloat, IT<:Int}\n",
    "    N = length(xx)\n",
    "    X,Y = repeat(xx, 1, N), repeat(xx, 1, N)'\n",
    "    \n",
    "    seq_pairs = compute_seq_pairs(N_KL)\n",
    "    \n",
    "    φ = zeros(FT, N_KL, N, N)\n",
    "    λ = zeros(FT, N_KL)\n",
    "    \n",
    "    for i = 1:N_KL\n",
    "        if (seq_pairs[i, 1] == 0 && seq_pairs[i, 2] == 0)\n",
    "            φ[i, :, :] .= 1.0\n",
    "        elseif (seq_pairs[i, 1] == 0)\n",
    "            φ[i, :, :] = sqrt(2)*cos.(pi * (seq_pairs[i, 2]*Y))\n",
    "        elseif (seq_pairs[i, 2] == 0)\n",
    "            φ[i, :, :] = sqrt(2)*cos.(pi * (seq_pairs[i, 1]*X))\n",
    "        else\n",
    "            φ[i, :, :] = 2*cos.(pi * (seq_pairs[i, 1]*X)) .*  cos.(pi * (seq_pairs[i, 2]*Y))\n",
    "        end\n",
    "\n",
    "        λ[i] = (pi^2*(seq_pairs[i, 1]^2 + seq_pairs[i, 2]^2) + τ^2)^(-d)\n",
    "    end\n",
    "    \n",
    "    Random.seed!(seed);\n",
    "#     rng = MersenneTwister(seed)\n",
    "#     θ_ref = rand(rng, Normal(0, 10), N_KL)\n",
    "    θ_ref = rand(Normal(0, 10), N_KL)\n",
    "    \n",
    "    logκ_2d = zeros(FT, N, N)\n",
    "    for i = 1:N_KL\n",
    "        logκ_2d .+= θ_ref[i]*sqrt(λ[i])*φ[i, :, :]\n",
    "    end\n",
    "    \n",
    "    return logκ_2d, φ, λ, θ_ref\n",
    "end\n",
    "\n",
    "#=\n",
    "Compute observation values\n",
    "=#\n",
    "function compute_obs(darcy::Setup_Param{FT, IT}, h_2d::Array{FT, 2}) where {FT<:AbstractFloat, IT<:Int}\n",
    "    # X---X(1)---X(2) ... X(obs_N)---X\n",
    "    obs_2d = h_2d[darcy.x_locs, darcy.y_locs] \n",
    "    \n",
    "    Nx_o, Ny_o = size(obs_2d)\n",
    "    \n",
    "    obs_2d_sym = (obs_2d[1:div(Nx_o+1, 2), :] + obs_2d[end:-1:div(Nx_o, 2)+1, :]) / 2.0\n",
    "    \n",
    "    # obs_2d_sym = (obs_2d[:, 1:div(Ny_o+1, 2)] + obs_2d[:, end:-1:div(Ny_o, 2)+1]) / 2.0\n",
    "    \n",
    "    return obs_2d_sym[:]\n",
    "end\n",
    "\n",
    "\n",
    "function plot_field(darcy::Setup_Param{FT, IT}, u_2d::Array{FT, 2}, plot_obs::Bool,  filename::String = \"None\") where {FT<:AbstractFloat, IT<:Int}\n",
    "    N = darcy.N\n",
    "    xx = darcy.xx\n",
    "\n",
    "    X,Y = repeat(xx, 1, N), repeat(xx, 1, N)'\n",
    "    pcolormesh(X, Y, u_2d, cmap=\"viridis\")\n",
    "    colorbar()\n",
    "\n",
    "    if plot_obs\n",
    "        x_obs, y_obs = X[darcy.x_locs[1:div(length(darcy.x_locs)+1,2)], darcy.y_locs][:], Y[darcy.x_locs[1:div(length(darcy.x_locs)+1,2)], darcy.y_locs][:] \n",
    "        scatter(x_obs, y_obs, color=\"black\")\n",
    "        \n",
    "        x_obs, y_obs = X[darcy.x_locs[div(length(darcy.x_locs)+1,2)+1:end], darcy.y_locs][:], Y[darcy.x_locs[div(length(darcy.x_locs)+1,2)+1:end], darcy.y_locs][:] \n",
    "        scatter(x_obs, y_obs, color=\"black\", facecolors=\"none\")\n",
    "    end\n",
    "\n",
    "    tight_layout()\n",
    "    if filename != \"None\"\n",
    "        savefig(filename)\n",
    "    end\n",
    "end"
   ]
  },
  {
   "cell_type": "code",
   "execution_count": 3,
   "metadata": {},
   "outputs": [
    {
     "name": "stderr",
     "output_type": "stream",
     "text": [
      "sys:1: MatplotlibDeprecationWarning: shading='flat' when X and Y have the same dimensions as C is deprecated since 3.3.  Either specify the corners of the quadrilaterals with X and Y, or pass shading='auto', 'nearest' or 'gouraud', or set rcParams['pcolor.shading'].  This will become an error two minor releases later.\n",
      "sys:1: MatplotlibDeprecationWarning: shading='flat' when X and Y have the same dimensions as C is deprecated since 3.3.  Either specify the corners of the quadrilaterals with X and Y, or pass shading='auto', 'nearest' or 'gouraud', or set rcParams['pcolor.shading'].  This will become an error two minor releases later.\n"
     ]
    },
    {
     "data": {
      "image/png": "[encoded data removed]",
      "text/plain": [
       "Figure(PyObject <Figure size 640x480 with 2 Axes>)"
      ]
     },
     "metadata": {},
     "output_type": "display_data"
    },
    {
     "data": {
      "image/png": "[encoded data removed]",
      "text/plain": [
       "Figure(PyObject <Figure size 640x480 with 2 Axes>)"
      ]
     },
     "metadata": {},
     "output_type": "display_data"
    }
   ],
   "source": [
    "N, L = 80, 1.0\n",
    "obs_ΔN = 10\n",
    "d = 2.0\n",
    "τ = 3.0\n",
    "N_KL = 128\n",
    "N_θ = 128\n",
    "darcy = Setup_Param(N, L, N_KL, obs_ΔN, N_θ, d, τ)\n",
    "\n",
    "\n",
    "\n",
    "κ_2d = exp.(darcy.logκ_2d)\n",
    "h_2d = solve_Darcy_2D(darcy, κ_2d)\n",
    "y_noiseless = compute_obs(darcy, h_2d)\n",
    "\n",
    "figure(1)\n",
    "plot_field(darcy, h_2d, true, \"Darcy-2D-obs.pdf\")\n",
    "figure(2)\n",
    "plot_field(darcy, darcy.logκ_2d, false, \"Darcy-2D-logk-ref.pdf\")\n",
    "    "
   ]
  },
  {
   "cell_type": "markdown",
   "metadata": {},
   "source": [
    "## Inverse Problem Setup : Optimization Approach\n",
    "\n",
    "\n",
    "$$\n",
    "\\begin{equation}\n",
    "    y_{obs} = y_{ref} + \\eta,\n",
    "\\end{equation}\n",
    "$$\n",
    "\n",
    "where $\\eta = \\mathcal{N}(0, I)$, and prior is $\\mathcal{N}(0, 10^2I)$. Using this data, we consider the incomplete parameterization scenario, where we solve for the first $32$ KL modes  \n",
    "        "
   ]
  },
  {
   "cell_type": "code",
   "execution_count": 4,
   "metadata": {},
   "outputs": [
    {
     "data": {
      "text/plain": [
       "156"
      ]
     },
     "execution_count": 4,
     "metadata": {},
     "output_type": "execute_result"
    }
   ],
   "source": [
    "# initial mean and covariance\n",
    "# UKI\n",
    "N_y = length(y_noiseless)\n",
    "σ_η = 1.0^2\n",
    "Σ_η = σ_η^2 * Array(Diagonal(fill(1.0, N_y)))\n",
    "Random.seed!(123);\n",
    "y = y_noiseless + rand(Normal(0, σ_η), N_y)\n",
    "\n",
    "update_freq = 1\n",
    "N_iter = 50\n",
    "α_reg  = 1.0\n",
    "\n",
    "N_θ = darcy.N_θ = 128\n",
    "μ_0 = zeros(Float64, N_θ)  # prior/initial mean \n",
    "Σ_0 = Array(Diagonal(fill(10.0^2, N_θ)))  # prior/initial covariance\n",
    "\n",
    "aug_y     = [y; μ_0] \n",
    "aug_Σ_η   = [Σ_η zeros(Float64, N_y, N_θ); zeros(Float64, N_θ, N_y) Σ_0]  \n",
    "darcy.N_y = (N_y + N_θ)"
   ]
  },
  {
   "cell_type": "markdown",
   "metadata": {},
   "source": [
    "## UKI"
   ]
  },
  {
   "cell_type": "code",
   "execution_count": 5,
   "metadata": {},
   "outputs": [
    {
     "name": "stdout",
     "output_type": "stream",
     "text": [
      "θ0_mean = [6.457306721039767, 14.632513788889215, 16.236037455860806, 2.176651067835462, -4.922456865251828, -9.809798121241487, -0.799568295050599, -15.491245530427918, 13.416092408832219, -4.121616346829679, -5.931973881209758, 7.68408918731307, 0.7616794545243701, 6.549005736319278, -6.870603731947982, 1.1946490783390415, -2.060750560105725, 10.190142181952096, -5.053106074828993, 5.382979349121415, -2.614008186093681, 13.11999766014946, 12.754423431732825, -3.884072457780736, -1.0901803311064597, -2.735893225022748, -0.5709742373655633, -3.9914981968163232, 1.5565118544328105, -17.92328334465374, -4.843286384137586, 2.024102293969917, 10.88218513936287, -7.037583257923017, -1.4332589323751366, -1.4837536667608195, -10.096134137351438, -0.28766636052271793, -1.707967032029406, 17.171200973796243, -11.067814366003583, -11.486968319829451, -6.15739830679831, 16.515960188538127, -2.1813966177530193, -15.486684918244734, 19.4328966619293, 17.433292819144075, -2.282463107729077, -5.942201905899748, -9.403543432818877, 3.3309984819818284, 9.15143011437486, 2.4278051585876996, -12.227924614721996, 30.575616596818303, -6.676472370782179, 14.229802170620937, -30.318360907616242, 3.6440214528510317, 6.8205046446793, -4.308774665688324, 7.088849648388045, -15.393309737299637, 5.0208367139022165, 4.821845624067958, -10.38420185234335, 5.52873815712254, 11.985193252127022, -18.255718810051736, -1.4067210710997151, -14.573699182901862, -5.187435249130559, 5.255958028703693, -10.006949009778056, 12.45738127915438, -6.128622608411992, 1.3609127142737176, -9.462520540394484, -15.72812584674066, 15.99513601718495, 3.802951736289526, 2.181465827885977, -0.9423786895872898, 0.5603383520354969, 5.921765767738361, -7.72446008942392, -4.099757487734, -11.820063231704292, 2.713758612804187, -14.971732218681158, -17.855924730000595, 25.37449378339451, 2.1031841089384393, -2.6148831590616544, -4.299908030042107, 2.9370073399331926, -8.847883858825043, 1.37887614231866, 6.676250896981832, -8.151673122132967, -0.9847306121228234, -10.431912063186527, 3.523025745204939, 6.3485794271216855, 11.288643209430077, -4.367515752026295, -21.92102349220871, -15.09170647937327, 7.113724429360179, -7.156151092277332, -3.785803958109621, 7.245171546844729, 8.61576288709243, 20.2535495909949, -0.056712589656902894, 5.243340912247568, -0.13020826416955275, 1.2394395223682344, -0.27235572111863343, -31.436340559666256, 11.154085307354096, 11.09662730538114, 18.574705134903247, 10.925188341625887, -1.3205352586682206, 13.370908745143485, -11.425176137005053]\n"
     ]
    },
    {
     "ename": "LoadError",
     "evalue": "AssertionError: Δt > 0.0 && Δt < 1",
     "output_type": "error",
     "traceback": [
      "AssertionError: Δt > 0.0 && Δt < 1",
      "",
      "Stacktrace:",
      " [1] UKIObj(θ_names::Vector{String}, θ0_mean::Vector{Float64}, θθ0_cov::Matrix{Float64}, prior_mean::Vector{Float64}, prior_cov::Matrix{Float64}, y::Vector{Float64}, Σ_η::Matrix{Float64}, Δt::Float64, α_reg::Float64, update_freq::Int64; unscented_transform::String)",
      "   @ Main /central/home/dzhuang/Code/InverseProblems.jl/Inversion/KI.jl:458",
      " [2] UKI_Run(s_param::Setup_Param{Float64, Int64}, forward::Function, θ0_mean::Vector{Float64}, θθ0_cov::Matrix{Float64}, prior_mean::Vector{Float64}, prior_cov::Matrix{Float64}, y::Vector{Float64}, Σ_η::Matrix{Float64}, Δt::Float64, α_reg::Float64, update_freq::Int64, N_iter::Int64; unscented_transform::String, θ_basis::Nothing)",
      "   @ Main /central/home/dzhuang/Code/InverseProblems.jl/Inversion/KI.jl:864",
      " [3] top-level scope",
      "   @ In[5]:10",
      " [4] eval",
      "   @ ./boot.jl:373 [inlined]",
      " [5] include_string(mapexpr::typeof(REPL.softscope), mod::Module, code::String, filename::String)",
      "   @ Base ./loading.jl:1196"
     ]
    }
   ],
   "source": [
    "# initial mean and covariance\n",
    "# UKI\n",
    "Random.seed!(123);\n",
    "σ_0 = 10\n",
    "θ0_mean = -rand(Normal(0, σ_0), N_θ) \n",
    "@show θ0_mean\n",
    "θθ0_cov = Array(Diagonal(fill(1.0^2, N_θ)))\n",
    "\n",
    "γ = 1.0\n",
    "ukiobj = UKI_Run(darcy,  aug_forward, θ0_mean, θθ0_cov, μ_0, Σ_0, aug_y, aug_Σ_η, γ,  α_reg, update_freq, N_iter+1; unscented_transform = \"modified-2n+1\");\n",
    "@info \"Finish modified-2n+1\"\n",
    "\n",
    "\n",
    "N_ens = 2N_θ + 1\n",
    "fig, (ax1, ax2, ax3) = PyPlot.subplots(ncols=3, figsize=(16,5))\n",
    "ites = Array(LinRange(0, N_iter, N_iter+1))\n",
    "errors = zeros(Float64, (3, N_iter+1, 4))\n",
    "# UKI-1\n",
    "for i = 1:N_iter+1\n",
    "    errors[1, i, 1] = norm(darcy.logκ_2d - compute_logκ_2d(darcy, ukiobj.θ_mean[i]))/norm(darcy.logκ_2d)\n",
    "    errors[2, i, 1] = 0.5*(ukiobj.y_pred[i] - ukiobj.y)'*(ukiobj.Σ_η\\(ukiobj.y_pred[i] - ukiobj.y))\n",
    "    errors[3, i, 1] = norm(ukiobj.θθ_cov[i])\n",
    "end\n",
    "\n",
    "ax1.plot(ites, errors[1, :, 1], \"-.x\", color = \"C0\", fillstyle=\"none\", markevery=1, label= \"UKI-1 (J=$N_ens)\")\n",
    "ax1.set_xlabel(\"Iterations\")\n",
    "ax1.set_ylabel(\"Rel. error of loga\")\n",
    "ax1.legend()\n",
    "\n",
    "ax2.plot(ites, errors[2, :, 1], \"-.x\",  color = \"C0\", fillstyle=\"none\", markevery=1, label= \"UKI-1 (J=$N_ens)\")\n",
    "ax2.set_xlabel(\"Iterations\")\n",
    "ax2.set_ylabel(\"Optimization error\")\n",
    "ax2.legend()\n",
    "\n",
    "ax3.plot(ites, errors[3, :, 1], \"-.x\",  color = \"C0\", fillstyle=\"none\", markevery=1, label= \"UKI-1 (J=$N_ens)\")\n",
    "ax3.set_xlabel(\"Iterations\")\n",
    "ax3.set_ylabel(\"Frobenius norm of covariance\")\n",
    "ax3.legend()\n",
    "fig.tight_layout()\n",
    "\n",
    "\n",
    "# visulize the log permeability field\n",
    "fig_logk, ax_logk = PyPlot.subplots(ncols = 3, sharex=true, sharey=true, figsize=(15,5))\n",
    "for ax in ax_logk ;  ax.set_xticks([]) ; ax.set_yticks([]) ; end\n",
    "color_lim = (minimum(darcy.logκ_2d), maximum(darcy.logκ_2d))\n",
    "\n",
    "plot_field(darcy, darcy.logκ_2d, color_lim, ax_logk[1]) \n",
    "\n",
    "\n",
    "plot_field(darcy, compute_logκ_2d(darcy, ukiobj.θ_mean[N_iter]),  color_lim, ax_logk[2]) \n",
    "\n",
    "\n",
    "plot_field(darcy, compute_logκ_2d(darcy, ukiobj.θ_mean[1]),  color_lim, ax_logk[3]) \n",
    "\n",
    "\n",
    "\n",
    "fig_logk.tight_layout()\n",
    "# fig_logk.savefig(\"Darcy-2D-logk-LR.pdf\")\n",
    "\n",
    "\n"
   ]
  },
  {
   "cell_type": "markdown",
   "metadata": {},
   "source": [
    "## GMKI"
   ]
  },
  {
   "cell_type": "code",
   "execution_count": 5,
   "metadata": {},
   "outputs": [
    {
     "data": {
      "text/plain": [
       "1.0"
      ]
     },
     "execution_count": 5,
     "metadata": {},
     "output_type": "execute_result"
    }
   ],
   "source": [
    "# compute posterior distribution by UKI\n",
    "update_freq = 1\n",
    "N_modes = 3\n",
    "θ0_w  = fill(1.0, N_modes)/N_modes\n",
    "θ0_mean, θθ0_cov  = zeros(N_modes, N_θ), zeros(N_modes, N_θ, N_θ)\n",
    "\n",
    "\n",
    "\n",
    "Random.seed!(63);\n",
    "σ_0 = 10\n",
    "θ0_mean[1, :]    .= rand(Normal(0, σ_0), N_θ) \n",
    "θθ0_cov[1, :, :] .= Array(Diagonal(fill(1.0^2, N_θ)))\n",
    "θ0_mean[2, :]    .= rand(Normal(0, σ_0), N_θ) \n",
    "θθ0_cov[2, :, :] .= Array(Diagonal(fill(1.0^2, N_θ)))\n",
    "θ0_mean[3, :]    .= rand(Normal(0, σ_0), N_θ) \n",
    "θθ0_cov[3, :, :] .= Array(Diagonal(fill(1.0^2, N_θ)))\n",
    "\n",
    "\n",
    "\n",
    "\n",
    "\n",
    "γ = 1.0\n",
    "# Δt = γ/(1+γ)\n",
    "# ukiobj = GMUKI_Run(darcy, aug_forward, θ0_w, θ0_mean, θθ0_cov, aug_y, aug_Σ_η, γ, update_freq, N_iter; unscented_transform=\"modified-2n+1\")\n",
    "    "
   ]
  },
  {
   "cell_type": "code",
   "execution_count": null,
   "metadata": {},
   "outputs": [],
   "source": []
  },
  {
   "cell_type": "code",
   "execution_count": 7,
   "metadata": {},
   "outputs": [
    {
     "ename": "LoadError",
     "evalue": "UndefVarError: ukiobj not defined",
     "output_type": "error",
     "traceback": [
      "UndefVarError: ukiobj not defined",
      "",
      "Stacktrace:",
      " [1] top-level scope",
      "   @ In[7]:36",
      " [2] eval",
      "   @ ./boot.jl:373 [inlined]",
      " [3] include_string(mapexpr::typeof(REPL.softscope), mod::Module, code::String, filename::String)",
      "   @ Base ./loading.jl:1196"
     ]
    }
   ],
   "source": [
    "N_ens = 2N_θ + 1\n",
    "# fig, (ax1, ax2, ax3) = PyPlot.subplots(ncols=3, figsize=(16,5))\n",
    "# ites = Array(LinRange(0, N_iter, N_iter+1))\n",
    "# errors = zeros(Float64, (3, N_iter+1, 4))\n",
    "# # UKI-1\n",
    "# for i = 1:N_iter+1\n",
    "#     errors[1, i, 1] = norm(darcy.logκ_2d - compute_logκ_2d(darcy, ukiobj.θ_mean[i]))/norm(darcy.logκ_2d)\n",
    "#     errors[2, i, 1] = 0.5*(ukiobj.y_pred[i] - ukiobj.y)'*(ukiobj.Σ_η\\(ukiobj.y_pred[i] - ukiobj.y))\n",
    "#     errors[3, i, 1] = norm(ukiobj.θθ_cov[i])\n",
    "# end\n",
    "\n",
    "# ax1.plot(ites, errors[1, :, 1], \"-.x\", color = \"C0\", fillstyle=\"none\", markevery=1, label= \"UKI-1 (J=$N_ens)\")\n",
    "# ax1.set_xlabel(\"Iterations\")\n",
    "# ax1.set_ylabel(\"Rel. error of loga\")\n",
    "# ax1.legend()\n",
    "\n",
    "# ax2.plot(ites, errors[2, :, 1], \"-.x\",  color = \"C0\", fillstyle=\"none\", markevery=1, label= \"UKI-1 (J=$N_ens)\")\n",
    "# ax2.set_xlabel(\"Iterations\")\n",
    "# ax2.set_ylabel(\"Optimization error\")\n",
    "# ax2.legend()\n",
    "\n",
    "# ax3.plot(ites, errors[3, :, 1], \"-.x\",  color = \"C0\", fillstyle=\"none\", markevery=1, label= \"UKI-1 (J=$N_ens)\")\n",
    "# ax3.set_xlabel(\"Iterations\")\n",
    "# ax3.set_ylabel(\"Frobenius norm of covariance\")\n",
    "# ax3.legend()\n",
    "# fig.tight_layout()\n",
    "\n",
    "\n",
    "# visulize the log permeability field\n",
    "fig_logk, ax_logk = PyPlot.subplots(ncols = 4, sharex=true, sharey=true, figsize=(20,5))\n",
    "for ax in ax_logk ;  ax.set_xticks([]) ; ax.set_yticks([]) ; end\n",
    "color_lim = (minimum(darcy.logκ_2d), maximum(darcy.logκ_2d))\n",
    "\n",
    "plot_field(darcy, darcy.logκ_2d, color_lim, ax_logk[1]) \n",
    "ax_logk[1].set_title(\"Truth\")\n",
    "plot_field(darcy, compute_logκ_2d(darcy, ukiobj.θ_mean[N_iter][1,:]),  color_lim, ax_logk[2]) \n",
    "ax_logk[2].set_title(\"Mode 1\")\n",
    "plot_field(darcy, compute_logκ_2d(darcy, ukiobj.θ_mean[N_iter][2,:]),  color_lim, ax_logk[3]) \n",
    "ax_logk[3].set_title(\"Mode 2\")\n",
    "plot_field(darcy, compute_logκ_2d(darcy, ukiobj.θ_mean[N_iter][3,:]),  color_lim, ax_logk[4]) \n",
    "ax_logk[4].set_title(\"Mode 3\")\n",
    "\n",
    "\n",
    "fig_logk.tight_layout()\n",
    "fig_logk.savefig(\"Darcy-2D-logk-LR.pdf\")\n",
    "\n",
    "\n",
    "\n",
    "\n"
   ]
  },
  {
   "cell_type": "code",
   "execution_count": 8,
   "metadata": {},
   "outputs": [
    {
     "ename": "LoadError",
     "evalue": "UndefVarError: ukiobj not defined",
     "output_type": "error",
     "traceback": [
      "UndefVarError: ukiobj not defined",
      "",
      "Stacktrace:",
      " [1] top-level scope",
      "   @ ./In[8]:13",
      " [2] eval",
      "   @ ./boot.jl:373 [inlined]",
      " [3] include_string(mapexpr::typeof(REPL.softscope), mod::Module, code::String, filename::String)",
      "   @ Base ./loading.jl:1196"
     ]
    }
   ],
   "source": [
    "N_ens = 2N_θ + 1\n",
    "fig, (ax1, ax2, ax3, ax4) = PyPlot.subplots(ncols=4, figsize=(20,5))\n",
    "ites = Array(LinRange(0, N_iter-1, N_iter))\n",
    "errors = zeros(Float64, (3, N_iter, N_modes))\n",
    "\n",
    "for m = 1:N_modes\n",
    "    for i = 1:N_iter\n",
    "        if m == N_modes\n",
    "            logκ_2d_truth = darcy.logκ_2d\n",
    "        else\n",
    "            logκ_2d_truth = darcy.logκ_2d[end:-1:1, :]\n",
    "        end\n",
    "        errors[1, i, m] = norm(logκ_2d_truth - compute_logκ_2d(darcy, ukiobj.θ_mean[i][m,:]))/norm(darcy.logκ_2d)\n",
    "        errors[2, i, m] = 0.5*(ukiobj.y_pred[i][m,:] - ukiobj.y)'*(ukiobj.Σ_η\\(ukiobj.y_pred[i][m,:] - ukiobj.y))\n",
    "        errors[3, i, m] = norm(ukiobj.θθ_cov[i][m,:,:])\n",
    "    end\n",
    "end\n",
    "\n",
    "linestyles = [\"o\"; \"x\"; \"s\"]\n",
    "markevery = 5\n",
    "for m = 1: N_modes\n",
    "    ax1.plot(ites, errors[1, :, m], marker=linestyles[m], color = \"C\"*string(m), fillstyle=\"none\", markevery=markevery, label= \"mode \"*string(m))\n",
    "end\n",
    "ax1.set_xlabel(\"Iterations\")\n",
    "ax1.set_ylabel(\"Rel. error of a(x)\")\n",
    "ax1.legend()\n",
    "\n",
    "for m = 1: N_modes\n",
    "    ax2.semilogy(ites, errors[2, :, m], marker=linestyles[m], color = \"C\"*string(m), fillstyle=\"none\", markevery=markevery, label= \"mode \"*string(m))\n",
    "end\n",
    "ax2.set_xlabel(\"Iterations\")\n",
    "ax2.set_ylabel(L\"\\Phi_R\")\n",
    "ax2.legend()\n",
    "\n",
    "for m = 1: N_modes\n",
    "    ax3.plot(ites, errors[3, :, m], marker=linestyles[m], color = \"C\"*string(m), fillstyle=\"none\", markevery=markevery, label= \"mode \"*string(m))\n",
    "end\n",
    "ax3.set_xlabel(\"Iterations\")\n",
    "ax3.set_ylabel(\"Frobenius norm of covariance\")\n",
    "ax3.legend()\n",
    "\n",
    "\n",
    "θ_w = exp.(hcat(ukiobj.logθ_w...))\n",
    "for m = 1: N_modes\n",
    "    ax4.plot(ites, θ_w[m, 1:N_iter], marker=linestyles[m], color = \"C\"*string(m), fillstyle=\"none\", markevery=markevery, label= \"mode \"*string(m))\n",
    "end\n",
    "ax4.set_xlabel(\"Iterations\")\n",
    "ax4.set_ylabel(\"Weights\")\n",
    "ax4.legend()\n",
    "fig.tight_layout()\n",
    "fig.savefig(\"Darcy-2D-convergence.pdf\")\n",
    "\n",
    "\n"
   ]
  },
  {
   "cell_type": "markdown",
   "metadata": {},
   "source": [
    "## Draw marginal distribution"
   ]
  },
  {
   "cell_type": "code",
   "execution_count": 9,
   "metadata": {},
   "outputs": [
    {
     "ename": "LoadError",
     "evalue": "UndefVarError: ukiobj not defined",
     "output_type": "error",
     "traceback": [
      "UndefVarError: ukiobj not defined",
      "",
      "Stacktrace:",
      " [1] top-level scope",
      "   @ ./In[9]:8",
      " [2] eval",
      "   @ ./boot.jl:373 [inlined]",
      " [3] include_string(mapexpr::typeof(REPL.softscope), mod::Module, code::String, filename::String)",
      "   @ Base ./loading.jl:1196"
     ]
    }
   ],
   "source": [
    "fig, ax = PyPlot.subplots(ncols=1, figsize=(16,5))\n",
    "θ_ref = darcy.θ_ref\n",
    "\n",
    "n_ind = 16\n",
    "θ_ind = Array(1:n_ind)\n",
    "ax.scatter(θ_ind, θ_ref[θ_ind], s = 100, marker=\"x\", color=\"black\", label=\"Truth\")\n",
    "for m = 1:N_modes\n",
    "    ax.scatter(θ_ind, ukiobj.θ_mean[N_iter][m,θ_ind], s = 50, marker=\"o\", color=\"C\"*string(m), facecolors=\"none\", label=\"Mode \"*string(m))\n",
    "end\n",
    "\n",
    "Nx = 1000\n",
    "for i in θ_ind\n",
    "    θ_min = minimum(ukiobj.θ_mean[N_iter][:,i] .- 3sqrt.(ukiobj.θθ_cov[N_iter][:,i,i]))\n",
    "    θ_max = maximum(ukiobj.θ_mean[N_iter][:,i] .+ 3sqrt.(ukiobj.θθ_cov[N_iter][:,i,i]))\n",
    "        \n",
    "    xxs = zeros(N_modes, Nx)  \n",
    "    zzs = zeros(N_modes, Nx)  \n",
    "    for m =1:N_modes\n",
    "        xxs[m, :], zzs[m, :] = Gaussian_1d(ukiobj.θ_mean[N_iter][m,i], ukiobj.θθ_cov[N_iter][m,i,i], Nx, θ_min, θ_max)\n",
    "        zzs[m, :] *= exp(ukiobj.logθ_w[N_iter][m]) * 3\n",
    "    end\n",
    "    label = nothing\n",
    "    if i == 1\n",
    "        label = \"GMKI\"\n",
    "    end\n",
    "    ax.plot(sum(zzs, dims=1)' .+ i, xxs[1,:], linestyle=\"-\", color=\"C0\", fillstyle=\"none\", label=label)\n",
    "    ax.plot(fill(i, Nx), xxs[1,:], linestyle=\":\", color=\"black\", fillstyle=\"none\")\n",
    "        \n",
    "end\n",
    "ax.set_xticks(θ_ind)\n",
    "ax.set_xlabel(L\"\\theta\" * \" indices\")\n",
    "ax.legend(loc=\"center left\", bbox_to_anchor=(0.95, 0.5))\n",
    "fig.tight_layout()\n",
    "fig.savefig(\"Darcy-2D-density.pdf\")\n",
    "\n"
   ]
  },
  {
   "cell_type": "code",
   "execution_count": null,
   "metadata": {},
   "outputs": [],
   "source": []
  },
  {
   "cell_type": "code",
   "execution_count": null,
   "metadata": {},
   "outputs": [],
   "source": []
  }
 ],
 "metadata": {
  "kernelspec": {
   "display_name": "Julia 1.7.1",
   "language": "julia",
   "name": "julia-1.7"
  },
  "language_info": {
   "file_extension": ".jl",
   "mimetype": "application/julia",
   "name": "julia",
   "version": "1.7.1"
  }
 },
 "nbformat": 4,
 "nbformat_minor": 4
}
