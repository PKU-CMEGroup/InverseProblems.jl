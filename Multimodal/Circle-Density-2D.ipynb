{
 "cells": [
  {
   "cell_type": "code",
   "execution_count": 1,
   "metadata": {},
   "outputs": [
    {
     "data": {
      "text/plain": [
       "Gaussian_mixture_NGFVI (generic function with 1 method)"
      ]
     },
     "execution_count": 1,
     "metadata": {},
     "output_type": "execute_result"
    }
   ],
   "source": [
    "using Random\n",
    "using Distributions\n",
    "using LinearAlgebra\n",
    "include(\"../Inversion/Plot.jl\")\n",
    "include(\"../Inversion/KalmanInversion.jl\")\n",
    "include(\"../Inversion/GMNVI.jl\")"
   ]
  },
  {
   "cell_type": "code",
   "execution_count": 2,
   "metadata": {},
   "outputs": [
    {
     "data": {
      "text/plain": [
       "Setup_Param"
      ]
     },
     "execution_count": 2,
     "metadata": {},
     "output_type": "execute_result"
    }
   ],
   "source": [
    "mutable struct Setup_Param{IT<:Int}\n",
    "    θ_names::Array{String,1}\n",
    "    N_θ::IT\n",
    "    N_y::IT\n",
    "end\n",
    "\n",
    "function Setup_Param(N_θ::IT, N_y::IT) where {IT<:Int}\n",
    "    return Setup_Param([\"θ\"], N_θ, N_y)\n",
    "end"
   ]
  },
  {
   "cell_type": "markdown",
   "metadata": {},
   "source": [
    "## Gaussian Mixture Kalman Inversion"
   ]
  },
  {
   "cell_type": "markdown",
   "metadata": {},
   "source": [
    "## Circle shape likelihood function\n",
    "\n",
    "We will explore the question with the following inverse problem \n",
    "\n",
    "$$\n",
    "\\begin{align*}\n",
    "y = \n",
    "\\Bigl(\n",
    "\\theta_{(1)}^2 +  \\theta_{(2)}^2\n",
    "\\Bigr)\n",
    "+\\eta\n",
    "\\qquad \n",
    "y = 1\n",
    "\\qquad\n",
    "\\Sigma_{\\eta} = \n",
    "\\begin{bmatrix}\n",
    "0.3^2 \n",
    "\\end{bmatrix} \n",
    "\\end{align*}\n",
    "$$\n",
    "\n",
    "\n",
    "We focus on the noninformative uniform prior, and hence we are sampling $e^{-\\frac{1}{2}(y-\\theta_{(1)}^2 -  \\theta_{(2)}^2)^T\\Sigma_{\\eta}^{-1}(y-\\theta_{(1)}^2 -  \\theta_{(2)}^2)}$.\n",
    "     "
   ]
  },
  {
   "cell_type": "code",
   "execution_count": 3,
   "metadata": {},
   "outputs": [
    {
     "data": {
      "text/plain": [
       "forward (generic function with 1 method)"
      ]
     },
     "execution_count": 3,
     "metadata": {},
     "output_type": "execute_result"
    }
   ],
   "source": [
    "function func_G(θ)\n",
    "    θ₁, θ₂ = θ\n",
    "    return [θ₁^2 + θ₂^2;]\n",
    "end\n",
    "\n",
    "\n",
    "function log_circle_shape(θ, y, ση)\n",
    "    θ₁, θ₂ = θ\n",
    "    return -(y[1] - func_G(θ)[1])^2/(2ση^2) \n",
    "end\n",
    "\n",
    "function V_circle_shape(θ, y, ση)\n",
    "    θ₁, θ₂ = θ    \n",
    "    V   = (y[1] - θ₁^2 - θ₂^2)^2/(2ση^2)\n",
    "    ∇V  = [ 2(y[1] - θ₁^2 - θ₂^2)*(-2θ₁)/(2ση^2) ;   2(y[1] - θ₁^2 - θ₂^2)*(-2θ₂)/(2ση^2)]\n",
    "    ∇²V = [ (-4*(y[1] - θ₁^2 - θ₂^2) + 8θ₁^2)/(2ση^2)   8*θ₁*θ₂/(2ση^2);   8*θ₁*θ₂/(2ση^2)   (-4*(y[1] - θ₁^2 - θ₂^2) + 8θ₂^2)/(2ση^2)] \n",
    "    return V, ∇V, ∇²V\n",
    "    \n",
    "end\n",
    "\n",
    "function forward(s_param::Setup_Param, θ)\n",
    "    return func_G(θ)\n",
    "end\n",
    "\n",
    "\n",
    "\n",
    "\n",
    "function forward(s_param::Setup_Param, θ)\n",
    "    return func_G(θ)\n",
    "end\n",
    "\n"
   ]
  },
  {
   "cell_type": "code",
   "execution_count": 4,
   "metadata": {},
   "outputs": [
    {
     "data": {
      "text/plain": [
       "circle_shape (generic function with 2 methods)"
      ]
     },
     "execution_count": 4,
     "metadata": {},
     "output_type": "execute_result"
    }
   ],
   "source": [
    "using ForwardDiff\n",
    "using KernelDensity\n",
    "function circle_shape(μ0 = [0.0;0.0];Run_GMKI = false, Run_GMNVI = false)\n",
    "\n",
    "    σ0 = 1.0\n",
    "    Σ0 = [σ0^2 0.0;0.0  σ0^2]\n",
    "\n",
    "    ση = 0.3\n",
    "    Σ_η = [ση^2;;]\n",
    "    y = [1.0;]\n",
    "\n",
    "    \n",
    "\n",
    "    N_y, N_θ = 1, 2\n",
    "    # compute posterior distribution by GMKI\n",
    "    update_freq = 1\n",
    "    N_modes = 10\n",
    "    θ0_w  = ones(N_modes)/N_modes\n",
    "    θ0_mean, θθ0_cov  = zeros(N_modes, N_θ), zeros(N_modes, N_θ, N_θ)\n",
    "\n",
    "\n",
    "    Random.seed!(111);\n",
    "    for m = 1:N_modes\n",
    "        θ0_mean[m, :]    .= rand(MvNormal(zeros(N_θ), Σ0)) + μ0\n",
    "        θθ0_cov[m, :, :] .= Σ0\n",
    "    end\n",
    "\n",
    "    s_param = Setup_Param(N_θ, N_y)\n",
    "\n",
    "    \n",
    "    if Run_GMKI\n",
    "        N_iter = 30\n",
    "        adapt_α = false\n",
    "        trunc_α = 1.0e-3\n",
    "        Δt = 5e-1\n",
    "        mixture_power_sampling_method = \"random-sampling\" # \"random-sampling-derivatives\"\n",
    "        gmkiobj = GMKI_Run(s_param, forward, θ0_w, θ0_mean, θθ0_cov, y, Σ_η, Δt, update_freq, N_iter; unscented_transform = \"modified-2n+1\", adapt_α = adapt_α, trunc_α = trunc_α, mixture_power_sampling_method = \"random-sampling\")\n",
    "    end\n",
    "    \n",
    "    if Run_GMNVI\n",
    "        N_iter = 1000\n",
    "        Δt = 1.0e-2\n",
    "        gaussain_mixture_V = θ -> V_circle_shape(θ, y, ση)\n",
    "        T = N_iter * Δt\n",
    "   \n",
    "        gmnviobj = GMNVI_Run(\n",
    "            gaussain_mixture_V, \n",
    "            T,\n",
    "            N_iter,\n",
    "            θ0_w, θ0_mean, θθ0_cov;\n",
    "            sqrt_matrix_type = \"Cholesky\",\n",
    "            quadrature_type_GM = \"mean_point\",\n",
    "            quadrature_type = \"mean_point\",\n",
    "            diagonal_covariance = false,\n",
    "            Hessian_correct_GM = false)\n",
    "        \n",
    "    end\n",
    "\n",
    "    \n",
    "\n",
    "    # visualization \n",
    "    x_min, x_max = -4.0, 4.0\n",
    "    y_min, y_max = -4.0, 4.0\n",
    "    Nx, Ny = 2000, 2000\n",
    "    xx = LinRange(x_min, x_max, Nx)\n",
    "    yy = LinRange(y_min, y_max, Ny)\n",
    "    X,Y = repeat(xx, 1, Ny), repeat(yy, 1, Nx)' \n",
    "    \n",
    "    Z_ref = copy(X)\n",
    "    for i = 1:Nx\n",
    "        for j = 1:Ny\n",
    "            temp = [X[i,j] ; Y[i,j]]\n",
    "            Z_ref[i,j] = exp(log_circle_shape(temp, y, ση))\n",
    "        end\n",
    "    end\n",
    "    Z_ref /= ( sum(Z_ref)*(xx[2]-xx[1])*(yy[2]-yy[1]) )\n",
    "    \n",
    "    \n",
    "    \n",
    "    \n",
    "    \n",
    "    # Visualize different iterations\n",
    "    for iter_percentage  in [0, 0.25, 0.5, 0.75, 1]\n",
    "        nrows, ncols = 1, 3\n",
    "        fig, ax = PyPlot.subplots(nrows=nrows, ncols=ncols, sharex=false, sharey=false, figsize=(15,5))\n",
    "        \n",
    "        color_lim = (minimum(Z_ref), maximum(Z_ref))\n",
    "        ax[1].pcolormesh(X, Y, Z_ref, cmap=\"viridis\", clim=color_lim)\n",
    "        ax[1].set_xlabel(L\"\\theta_{(1)}\")\n",
    "        ax[1].set_ylabel(L\"\\theta_{(2)}\")\n",
    "        ax[1].set_title(\"Reference\")\n",
    "        \n",
    "        \n",
    "        \n",
    "        \n",
    "    \n",
    "        if Run_GMKI\n",
    "            iter = floor(Int64, iter_percentage*(length(gmkiobj.θ_mean)-1)) + 1\n",
    "            Z = zeros(N_modes, Nx, Ny)\n",
    "            # plot GMKI results \n",
    "            for i =1:N_modes\n",
    "                gmki_θ_mean = gmkiobj.θ_mean[iter][i, :]\n",
    "                gmki_θθ_cov = gmkiobj.θθ_cov[iter][i, :, :]\n",
    "                _,_, Z[i, :, :] = Gaussian_2d(gmki_θ_mean, gmki_θθ_cov, Nx, Ny, x_min, x_max, y_min, y_max) \n",
    "                Z[i,:,:] *= exp(gmkiobj.logθ_w[iter][i])\n",
    "\n",
    "            end\n",
    "            Z_GMKI = sum(Z, dims=1)[1,:,:]\n",
    "            Z_GMKI /= (sum(Z_GMKI)*(xx[2]-xx[1])*(yy[2]-yy[1]) )\n",
    "            ax[2].pcolormesh(X, Y, Z_GMKI, cmap=\"viridis\", clim=color_lim)\n",
    "            @info \"GMKI L₁ error = \", sum(abs.(Z_GMKI - Z_ref))/sum(abs.(Z_ref))\n",
    "\n",
    "\n",
    "            # linestyles = [\"o\"; \"x\"; \"s\"]\n",
    "            for i =1:N_modes\n",
    "                gmki_θ_mean = gmkiobj.θ_mean[iter][i, :]\n",
    "                gmki_θθ_cov = gmkiobj.θθ_cov[iter][i, :, :]\n",
    "                linestyle = \"o\" \n",
    "                ax[2].scatter([gmki_θ_mean[1];], [gmki_θ_mean[2];], marker=linestyle, color=\"C\"*string(i), facecolors=(linestyle==\"x\" ? nothing : \"none\"))\n",
    "            end\n",
    "        \n",
    "            ax[2].set_xlabel(L\"\\theta_{(1)}\")\n",
    "            ax[2].set_ylabel(L\"\\theta_{(2)}\")\n",
    "            ax[2].set_title(\"GMKI\")\n",
    "        end\n",
    "        \n",
    "        if Run_GMNVI\n",
    "            iter = floor(Int64, iter_percentage*(length(gmnviobj.x_mean)-1)) + 1\n",
    "            \n",
    "            Z = zeros(N_modes, Nx, Ny)\n",
    "            # plot GMNVI results \n",
    "            for i =1:N_modes\n",
    "                gmnvi_θ_mean = gmnviobj.x_mean[iter][i, :]\n",
    "                gmnvi_θθ_cov = gmnviobj.xx_cov[iter][i, :, :]\n",
    "                _,_, Z[i, :, :] = Gaussian_2d(gmnvi_θ_mean, gmnvi_θθ_cov, Nx, Ny, x_min, x_max, y_min, y_max) \n",
    "                Z[i,:,:] *= exp(gmnviobj.logx_w[iter][i])\n",
    "\n",
    "            end\n",
    "            Z_GMNVI = sum(Z, dims=1)[1,:,:]\n",
    "            Z_GMNVI /= (sum(Z_GMNVI)*(xx[2]-xx[1])*(yy[2]-yy[1]) )\n",
    "            \n",
    "            ax[3].pcolormesh(X, Y, Z_GMNVI, cmap=\"viridis\", clim=color_lim)\n",
    "            @info \"GMNVI L₁ error = \", sum(abs.(Z_GMNVI - Z_ref))/sum(abs.(Z_ref))\n",
    "\n",
    "\n",
    "            # linestyles = [\"o\"; \"x\"; \"s\"]\n",
    "            for i =1:N_modes\n",
    "                gmnvi_θ_mean = gmnviobj.x_mean[iter][i, :]\n",
    "                gmnvi_θθ_cov = gmnviobj.xx_cov[iter][i, :, :]\n",
    "                linestyle = \"o\" \n",
    "                ax[3].scatter([gmnvi_θ_mean[1];], [gmnvi_θ_mean[2];], marker=linestyle, color=\"C\"*string(i), facecolors=(linestyle==\"x\" ? nothing : \"none\"))\n",
    "            end\n",
    "\n",
    "            ax[3].set_xlabel(L\"\\theta_{(1)}\")\n",
    "            ax[3].set_ylabel(L\"\\theta_{(2)}\")\n",
    "            ax[3].set_title(\"GMNVI\")\n",
    "        end\n",
    "        \n",
    "        \n",
    "        fig.tight_layout()\n",
    "        fig.savefig(\"2D-circle-shape-density-\"*string(iter_percentage)*\".png\")\n",
    "\n",
    "\n",
    "    end\n",
    "    \n",
    "end\n",
    "\n",
    "\n",
    "\n"
   ]
  },
  {
   "cell_type": "code",
   "execution_count": null,
   "metadata": {},
   "outputs": [
    {
     "name": "stderr",
     "output_type": "stream",
     "text": [
      "\u001b[36m\u001b[1m[ \u001b[22m\u001b[39m\u001b[36m\u001b[1mInfo: \u001b[22m\u001b[39mStart GMKI on the mean-field stochastic dynamical system for Bayesian inference \n",
      "\u001b[36m\u001b[1m[ \u001b[22m\u001b[39m\u001b[36m\u001b[1mInfo: \u001b[22m\u001b[39m(\"iter = \", 3, \" / \", 30)\n",
      "\u001b[36m\u001b[1m[ \u001b[22m\u001b[39m\u001b[36m\u001b[1mInfo: \u001b[22m\u001b[39m(\"iter = \", 6, \" / \", 30)\n",
      "\u001b[36m\u001b[1m[ \u001b[22m\u001b[39m\u001b[36m\u001b[1mInfo: \u001b[22m\u001b[39m(\"iter = \", 9, \" / \", 30)\n",
      "\u001b[36m\u001b[1m[ \u001b[22m\u001b[39m\u001b[36m\u001b[1mInfo: \u001b[22m\u001b[39m(\"iter = \", 12, \" / \", 30)\n",
      "\u001b[36m\u001b[1m[ \u001b[22m\u001b[39m\u001b[36m\u001b[1mInfo: \u001b[22m\u001b[39m(\"iter = \", 15, \" / \", 30)\n",
      "\u001b[36m\u001b[1m[ \u001b[22m\u001b[39m\u001b[36m\u001b[1mInfo: \u001b[22m\u001b[39m(\"iter = \", 18, \" / \", 30)\n",
      "\u001b[36m\u001b[1m[ \u001b[22m\u001b[39m\u001b[36m\u001b[1mInfo: \u001b[22m\u001b[39m(\"iter = \", 21, \" / \", 30)\n",
      "\u001b[36m\u001b[1m[ \u001b[22m\u001b[39m\u001b[36m\u001b[1mInfo: \u001b[22m\u001b[39m(\"iter = \", 24, \" / \", 30)\n",
      "\u001b[36m\u001b[1m[ \u001b[22m\u001b[39m\u001b[36m\u001b[1mInfo: \u001b[22m\u001b[39m(\"iter = \", 27, \" / \", 30)\n",
      "\u001b[36m\u001b[1m[ \u001b[22m\u001b[39m\u001b[36m\u001b[1mInfo: \u001b[22m\u001b[39m(\"iter = \", 30, \" / \", 30)\n",
      "\u001b[36m\u001b[1m[ \u001b[22m\u001b[39m\u001b[36m\u001b[1mInfo: \u001b[22m\u001b[39m(\"iter = \", 100, \" / \", 1000)\n",
      "\u001b[36m\u001b[1m[ \u001b[22m\u001b[39m\u001b[36m\u001b[1mInfo: \u001b[22m\u001b[39m(\"iter = \", 200, \" / \", 1000)\n",
      "\u001b[36m\u001b[1m[ \u001b[22m\u001b[39m\u001b[36m\u001b[1mInfo: \u001b[22m\u001b[39m(\"iter = \", 300, \" / \", 1000)\n",
      "\u001b[36m\u001b[1m[ \u001b[22m\u001b[39m\u001b[36m\u001b[1mInfo: \u001b[22m\u001b[39m(\"iter = \", 400, \" / \", 1000)\n",
      "\u001b[36m\u001b[1m[ \u001b[22m\u001b[39m\u001b[36m\u001b[1mInfo: \u001b[22m\u001b[39m(\"iter = \", 500, \" / \", 1000)\n",
      "\u001b[36m\u001b[1m[ \u001b[22m\u001b[39m\u001b[36m\u001b[1mInfo: \u001b[22m\u001b[39m(\"iter = \", 600, \" / \", 1000)\n",
      "\u001b[36m\u001b[1m[ \u001b[22m\u001b[39m\u001b[36m\u001b[1mInfo: \u001b[22m\u001b[39m(\"iter = \", 700, \" / \", 1000)\n",
      "\u001b[36m\u001b[1m[ \u001b[22m\u001b[39m\u001b[36m\u001b[1mInfo: \u001b[22m\u001b[39m(\"iter = \", 800, \" / \", 1000)\n",
      "\u001b[36m\u001b[1m[ \u001b[22m\u001b[39m\u001b[36m\u001b[1mInfo: \u001b[22m\u001b[39m(\"iter = \", 900, \" / \", 1000)\n",
      "\u001b[36m\u001b[1m[ \u001b[22m\u001b[39m\u001b[36m\u001b[1mInfo: \u001b[22m\u001b[39m(\"iter = \", 1000, \" / \", 1000)\n",
      "\u001b[36m\u001b[1m[ \u001b[22m\u001b[39m\u001b[36m\u001b[1mInfo: \u001b[22m\u001b[39m(\"GMKI L₁ error = \", 1.365425732834291)\n",
      "\u001b[36m\u001b[1m[ \u001b[22m\u001b[39m\u001b[36m\u001b[1mInfo: \u001b[22m\u001b[39m(\"GMNVI L₁ error = \", 1.365425732834291)\n"
     ]
    }
   ],
   "source": [
    "circle_shape([0.0;0.0]; Run_GMKI=true, Run_GMNVI=true);"
   ]
  },
  {
   "cell_type": "code",
   "execution_count": null,
   "metadata": {},
   "outputs": [],
   "source": []
  }
 ],
 "metadata": {
  "kernelspec": {
   "display_name": "Julia 1.9.3",
   "language": "julia",
   "name": "julia-1.9"
  },
  "language_info": {
   "file_extension": ".jl",
   "mimetype": "application/julia",
   "name": "julia",
   "version": "1.9.3"
  }
 },
 "nbformat": 4,
 "nbformat_minor": 4
}
