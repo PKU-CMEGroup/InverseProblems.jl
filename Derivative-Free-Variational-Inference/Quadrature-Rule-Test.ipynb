{
 "cells": [
  {
   "cell_type": "code",
   "execution_count": 6,
   "metadata": {},
   "outputs": [
    {
     "data": {
      "text/plain": [
       "GMVI_Run (generic function with 1 method)"
      ]
     },
     "metadata": {},
     "output_type": "display_data"
    }
   ],
   "source": [
    "using Random\n",
    "using Distributions\n",
    "using LinearAlgebra\n",
    "using ForwardDiff\n",
    "include(\"../Inversion/Plot.jl\")\n",
    "include(\"../Inversion/GMVI.jl\")"
   ]
  },
  {
   "cell_type": "markdown",
   "metadata": {},
   "source": [
    "## Gaussian mixture\n",
    "\n",
    "This is not an inverse problem!\n",
    "\n",
    "$$\n",
    "e^{-\\Phi_r(\\theta)} \\propto \\sum_i w_i \\mathcal{N}(\\theta; m_i, C_i) \\\\\n",
    "\\Phi_r(\\theta) = - \\log\\Bigl( \\sum_i w_i \\mathcal{N}(\\theta; m_i, C_i) \\Bigr)\n",
    "$$\n",
    "\n"
   ]
  },
  {
   "cell_type": "code",
   "execution_count": 7,
   "metadata": {},
   "outputs": [
    {
     "data": {
      "text/plain": [
       "Gaussian_mixture_dPhi (generic function with 1 method)"
      ]
     },
     "metadata": {},
     "output_type": "display_data"
    }
   ],
   "source": [
    "function log_Gaussian_mixture(x, args)\n",
    "    x_w, x_mean, inv_sqrt_x_cov = args\n",
    "    # C = L L.T\n",
    "    # C^-1 = L^-TL^-1\n",
    "    N_x = size(x_mean, 2)\n",
    "    ρ = 0\n",
    "    for im = 1:length(x_w)\n",
    "        ρ += x_w[im]*exp(-0.5*(x-x_mean[im,:])'*(inv_sqrt_x_cov[im]'*inv_sqrt_x_cov[im]*(x-x_mean[im,:])))/det(inv_sqrt_x_cov[im])\n",
    "    end\n",
    "    return log(ρ) - N_x/2*log(2*π)\n",
    "end\n",
    "\n",
    "\n",
    "\n",
    "function Gaussian_mixture_dPhi(θ, args)\n",
    "    return -log_Gaussian_mixture(θ, args), \n",
    "           -ForwardDiff.gradient(x -> log_Gaussian_mixture(x, args), θ), \n",
    "           -ForwardDiff.hessian(x -> log_Gaussian_mixture(x, args), θ)\n",
    "end\n",
    "\n"
   ]
  },
  {
   "cell_type": "code",
   "execution_count": 8,
   "metadata": {},
   "outputs": [
    {
     "data": {
      "text/plain": [
       "visualization_2d (generic function with 1 method)"
      ]
     },
     "metadata": {},
     "output_type": "display_data"
    }
   ],
   "source": [
    "function visualization_2d(ax; Nx=2000, Ny=2000, x_lim=[-4.0,4.0], y_lim=[-4.0,4.0], func_F = nothing, func_Phi = nothing, objs=nothing, label=nothing)\n",
    "\n",
    "    # visualization \n",
    "    x_min, x_max = x_lim\n",
    "    y_min, y_max = y_lim\n",
    "\n",
    "    xx = LinRange(x_min, x_max, Nx)\n",
    "    yy = LinRange(y_min, y_max, Ny)\n",
    "    dx, dy = xx[2] - xx[1], yy[2] - yy[1]\n",
    "    X,Y = repeat(xx, 1, Ny), repeat(yy, 1, Nx)'   #'\n",
    "\n",
    "    Z_ref = (func_Phi === nothing ? posterior_2d(func_F, X, Y, \"func_F\") : posterior_2d(func_Phi, X, Y, \"func_Phi\"))\n",
    "    color_lim = (minimum(Z_ref), maximum(Z_ref))\n",
    "    ax[1].pcolormesh(X, Y, Z_ref, cmap=\"viridis\", clim=color_lim)\n",
    "\n",
    "    N_obj = length(objs)\n",
    "    N_iter = length(objs[1].logx_w) - 1\n",
    "    error = zeros(N_obj, N_iter+1)\n",
    "        \n",
    "    for (iobj, obj) in enumerate(objs)\n",
    "        for iter = 0:N_iter  \n",
    "            x_w = exp.(obj.logx_w[iter+1]); x_w /= sum(x_w)\n",
    "            x_mean = obj.x_mean[iter+1][:,1:2]\n",
    "            xx_cov = obj.xx_cov[iter+1][:,1:2,1:2]\n",
    "            Z = Gaussian_mixture_2d(x_w, x_mean, xx_cov,  X, Y)\n",
    "            error[iobj, iter+1] = norm(Z - Z_ref,1)*dx*dy\n",
    "            \n",
    "            if iter == N_iter\n",
    "                    \n",
    "                ax[1+iobj].pcolormesh(X, Y, Z, cmap=\"viridis\", clim=color_lim)\n",
    "                N_modes = size(x_mean, 1)\n",
    "                ax[1+iobj].scatter([obj.x_mean[1][:,1];], [obj.x_mean[1][:,2];], marker=\"x\", color=\"grey\", alpha=0.5) \n",
    "                ax[1+iobj].scatter([x_mean[:,1];], [x_mean[:,2];], marker=\"o\", color=\"red\", facecolors=\"none\", alpha=0.5)\n",
    "               \n",
    "            end\n",
    "        end\n",
    "        \n",
    "    end\n",
    "    for i_obj = 1:N_obj\n",
    "        ax[N_obj+2].semilogy(Array(0:N_iter), error[i_obj, :],  label= label[i_obj])   \n",
    "   end\n",
    "#     # Get the current y-axis limits\n",
    "#     ymin, ymax = ax[N_obj+2].get_ylim()\n",
    "#     # Ensure the lower bound of y-ticks is below 0.1\n",
    "#     if ymin > 0.1\n",
    "#         ax[N_obj+2].set_ylim(0.1, ymax)  # Set the lower limit to a value below 0.1\n",
    "#     end\n",
    "   \n",
    "end"
   ]
  },
  {
   "cell_type": "code",
   "execution_count": 9,
   "metadata": {
    "scrolled": false
   },
   "outputs": [
    {
     "name": "stderr",
     "output_type": "stream",
     "text": [
      "┌ Info: (\"iter = \", 100, \" / \", 1000)\n",
      "└ @ Main /Users/huangdz/Desktop/Code/InverseProblems.jl/Inversion/GMVI.jl:287\n",
      "┌ Info: (\"iter = \", 200, \" / \", 1000)\n",
      "└ @ Main /Users/huangdz/Desktop/Code/InverseProblems.jl/Inversion/GMVI.jl:287\n",
      "┌ Info: (\"iter = \", 300, \" / \", 1000)\n",
      "└ @ Main /Users/huangdz/Desktop/Code/InverseProblems.jl/Inversion/GMVI.jl:287\n",
      "┌ Info: (\"iter = \", 400, \" / \", 1000)\n",
      "└ @ Main /Users/huangdz/Desktop/Code/InverseProblems.jl/Inversion/GMVI.jl:287\n",
      "┌ Info: (\"iter = \", 500, \" / \", 1000)\n",
      "└ @ Main /Users/huangdz/Desktop/Code/InverseProblems.jl/Inversion/GMVI.jl:287\n",
      "┌ Info: (\"iter = \", 600, \" / \", 1000)\n",
      "└ @ Main /Users/huangdz/Desktop/Code/InverseProblems.jl/Inversion/GMVI.jl:287\n",
      "┌ Info: (\"iter = \", 700, \" / \", 1000)\n",
      "└ @ Main /Users/huangdz/Desktop/Code/InverseProblems.jl/Inversion/GMVI.jl:287\n",
      "┌ Info: (\"iter = \", 800, \" / \", 1000)\n",
      "└ @ Main /Users/huangdz/Desktop/Code/InverseProblems.jl/Inversion/GMVI.jl:287\n",
      "┌ Info: (\"iter = \", 900, \" / \", 1000)\n",
      "└ @ Main /Users/huangdz/Desktop/Code/InverseProblems.jl/Inversion/GMVI.jl:287\n",
      "┌ Info: (\"iter = \", 1000, \" / \", 1000)\n",
      "└ @ Main /Users/huangdz/Desktop/Code/InverseProblems.jl/Inversion/GMVI.jl:287\n",
      "┌ Info: (\"iter = \", 100, \" / \", 1000)\n",
      "└ @ Main /Users/huangdz/Desktop/Code/InverseProblems.jl/Inversion/GMVI.jl:287\n",
      "┌ Info: (\"iter = \", 200, \" / \", 1000)\n",
      "└ @ Main /Users/huangdz/Desktop/Code/InverseProblems.jl/Inversion/GMVI.jl:287\n",
      "┌ Info: (\"iter = \", 300, \" / \", 1000)\n",
      "└ @ Main /Users/huangdz/Desktop/Code/InverseProblems.jl/Inversion/GMVI.jl:287\n",
      "┌ Info: (\"iter = \", 400, \" / \", 1000)\n",
      "└ @ Main /Users/huangdz/Desktop/Code/InverseProblems.jl/Inversion/GMVI.jl:287\n",
      "┌ Info: (\"iter = \", 500, \" / \", 1000)\n",
      "└ @ Main /Users/huangdz/Desktop/Code/InverseProblems.jl/Inversion/GMVI.jl:287\n",
      "┌ Info: (\"iter = \", 600, \" / \", 1000)\n",
      "└ @ Main /Users/huangdz/Desktop/Code/InverseProblems.jl/Inversion/GMVI.jl:287\n",
      "┌ Info: (\"iter = \", 700, \" / \", 1000)\n",
      "└ @ Main /Users/huangdz/Desktop/Code/InverseProblems.jl/Inversion/GMVI.jl:287\n",
      "┌ Info: (\"iter = \", 800, \" / \", 1000)\n",
      "└ @ Main /Users/huangdz/Desktop/Code/InverseProblems.jl/Inversion/GMVI.jl:287\n",
      "┌ Info: (\"iter = \", 900, \" / \", 1000)\n",
      "└ @ Main /Users/huangdz/Desktop/Code/InverseProblems.jl/Inversion/GMVI.jl:287\n",
      "┌ Info: (\"iter = \", 1000, \" / \", 1000)\n",
      "└ @ Main /Users/huangdz/Desktop/Code/InverseProblems.jl/Inversion/GMVI.jl:287\n",
      "┌ Info: (\"iter = \", 100, \" / \", 1000)\n",
      "└ @ Main /Users/huangdz/Desktop/Code/InverseProblems.jl/Inversion/GMVI.jl:287\n",
      "┌ Info: (\"iter = \", 200, \" / \", 1000)\n",
      "└ @ Main /Users/huangdz/Desktop/Code/InverseProblems.jl/Inversion/GMVI.jl:287\n",
      "┌ Info: (\"iter = \", 300, \" / \", 1000)\n",
      "└ @ Main /Users/huangdz/Desktop/Code/InverseProblems.jl/Inversion/GMVI.jl:287\n",
      "┌ Info: (\"iter = \", 400, \" / \", 1000)\n",
      "└ @ Main /Users/huangdz/Desktop/Code/InverseProblems.jl/Inversion/GMVI.jl:287\n",
      "┌ Info: (\"iter = \", 500, \" / \", 1000)\n",
      "└ @ Main /Users/huangdz/Desktop/Code/InverseProblems.jl/Inversion/GMVI.jl:287\n",
      "┌ Info: (\"iter = \", 600, \" / \", 1000)\n",
      "└ @ Main /Users/huangdz/Desktop/Code/InverseProblems.jl/Inversion/GMVI.jl:287\n",
      "┌ Info: (\"iter = \", 700, \" / \", 1000)\n",
      "└ @ Main /Users/huangdz/Desktop/Code/InverseProblems.jl/Inversion/GMVI.jl:287\n",
      "┌ Info: (\"iter = \", 800, \" / \", 1000)\n",
      "└ @ Main /Users/huangdz/Desktop/Code/InverseProblems.jl/Inversion/GMVI.jl:287\n",
      "┌ Info: (\"iter = \", 900, \" / \", 1000)\n",
      "└ @ Main /Users/huangdz/Desktop/Code/InverseProblems.jl/Inversion/GMVI.jl:287\n",
      "┌ Info: (\"iter = \", 1000, \" / \", 1000)\n",
      "└ @ Main /Users/huangdz/Desktop/Code/InverseProblems.jl/Inversion/GMVI.jl:287\n",
      "┌ Info: (\"iter = \", 100, \" / \", 1000)\n",
      "└ @ Main /Users/huangdz/Desktop/Code/InverseProblems.jl/Inversion/GMVI.jl:287\n",
      "┌ Info: (\"iter = \", 200, \" / \", 1000)\n",
      "└ @ Main /Users/huangdz/Desktop/Code/InverseProblems.jl/Inversion/GMVI.jl:287\n",
      "┌ Info: (\"iter = \", 300, \" / \", 1000)\n",
      "└ @ Main /Users/huangdz/Desktop/Code/InverseProblems.jl/Inversion/GMVI.jl:287\n",
      "┌ Info: (\"iter = \", 400, \" / \", 1000)\n",
      "└ @ Main /Users/huangdz/Desktop/Code/InverseProblems.jl/Inversion/GMVI.jl:287\n",
      "┌ Info: (\"iter = \", 500, \" / \", 1000)\n",
      "└ @ Main /Users/huangdz/Desktop/Code/InverseProblems.jl/Inversion/GMVI.jl:287\n",
      "┌ Info: (\"iter = \", 600, \" / \", 1000)\n",
      "└ @ Main /Users/huangdz/Desktop/Code/InverseProblems.jl/Inversion/GMVI.jl:287\n",
      "┌ Info: (\"iter = \", 700, \" / \", 1000)\n",
      "└ @ Main /Users/huangdz/Desktop/Code/InverseProblems.jl/Inversion/GMVI.jl:287\n",
      "┌ Info: (\"iter = \", 800, \" / \", 1000)\n",
      "└ @ Main /Users/huangdz/Desktop/Code/InverseProblems.jl/Inversion/GMVI.jl:287\n",
      "┌ Info: (\"iter = \", 900, \" / \", 1000)\n",
      "└ @ Main /Users/huangdz/Desktop/Code/InverseProblems.jl/Inversion/GMVI.jl:287\n",
      "┌ Info: (\"iter = \", 1000, \" / \", 1000)\n",
      "└ @ Main /Users/huangdz/Desktop/Code/InverseProblems.jl/Inversion/GMVI.jl:287\n"
     ]
    }
   ],
   "source": [
    "fig, ax = PyPlot.subplots(nrows=1, ncols=6, sharex=false, sharey=false, figsize=(21,5))\n",
    "\n",
    "x_w_ref, x_mean_ref = [0.2;0.5;0.3], [1.0 2.0; 2.0 1.0; -1.0 -1.0]\n",
    "N_modes_ref, N_x = size(x_mean_ref)\n",
    "xx_cov_ref = zeros(N_modes_ref, 2, 2)\n",
    "for im = 1:N_modes_ref\n",
    "    xx_cov_ref[im,:,:] += I\n",
    "end\n",
    "xx_cov_ref[N_modes_ref,:,:] /= 2.0\n",
    "\n",
    "inv_sqrt_x_cov_ref = [compute_sqrt_matrix(xx_cov_ref[im,:,:]; type=\"Cholesky\")[2] for im = 1:N_modes_ref]\n",
    "func_args = (x_w_ref, x_mean_ref, inv_sqrt_x_cov_ref)\n",
    "func_dPhi(x) = Gaussian_mixture_dPhi(x, func_args)\n",
    "func_Phi(x) = -log_Gaussian_mixture(x, func_args)\n",
    "\n",
    "\n",
    "\n",
    "Random.seed!(111);\n",
    "N_modes = 10\n",
    "x0_w  = ones(N_modes)/N_modes\n",
    "μ0, Σ0 = [0.0; 0.0], [1.0 0.0; 0.0 1.0]\n",
    "N_x = length(μ0)\n",
    "x0_mean, xx0_cov = zeros(N_modes, N_x), zeros(N_modes, N_x, N_x)\n",
    "for im = 1:N_modes\n",
    "    x0_mean[im, :]    .= rand(MvNormal(zeros(N_x), Σ0)) + μ0\n",
    "    xx0_cov[im, :, :] .= Σ0\n",
    "end\n",
    "\n",
    "\n",
    "sqrt_matrix_type = \"Cholesky\"\n",
    "N_iter , dt  = 1000, 0.02\n",
    "T =  N_iter * dt\n",
    "quadrature_test_list = [\n",
    "    (\"mean_point\",\"mean_point\"),\n",
    "    (\"unscented_transform\",\"unscented_transform\"),\n",
    "    (\"cubature_transform_o3\",\"cubature_transform_o3\"),\n",
    "    (\"cubature_transform_o3\",\"mean_point\")]\n",
    "\n",
    "objs = [GMVI_Run(func_dPhi, T, N_iter, x0_w, x0_mean, xx0_cov; \n",
    "                quadrature_type_GM = quadrature_type_GM, quadrature_type = quadrature_type, Hessian_correct_GM = false) for  (quadrature_type_GM, quadrature_type) in quadrature_test_list]\n",
    "\n",
    "# Gaussian mixture test\n",
    "visualization_2d(ax; Nx = 200, Ny = 200, x_lim=[-3.0, 5.0], y_lim=[-3.0, 5.0], func_Phi = func_Phi, objs=objs, \n",
    "        label=[\"Mean-point + Mean-point\", \"Unscented + Unscented\", \"Cubature + Cubature\", \"Mean-point + Cubature\"])\n",
    "\n",
    "for i = 1:5\n",
    "    ax[i].get_xaxis().set_visible(false)\n",
    "    ax[i].get_yaxis().set_visible(false)\n",
    "end\n",
    "\n",
    "handles, labels = ax[end].get_legend_handles_labels()\n",
    "fig.legend(handles,labels,loc = \"upper center\",bbox_to_anchor=(0.5,0.98),ncol=4, fontsize=20)\n",
    "fig.subplots_adjust(bottom=0.15,top=0.85,left=0.02,right=0.98,hspace=0.2)\n",
    "\n",
    "# fig.tight_layout()\n",
    "fig.savefig(\"Quadrature-Points.pdf\")"
   ]
  },
  {
   "cell_type": "code",
   "execution_count": 10,
   "metadata": {},
   "outputs": [],
   "source": []
  }
 ],
 "metadata": {
  "kernelspec": {
   "display_name": "Julia 1.9.3",
   "language": "julia",
   "name": "julia-1.9"
  },
  "language_info": {
   "file_extension": ".jl",
   "mimetype": "application/julia",
   "name": "julia",
   "version": "1.9.3"
  }
 },
 "nbformat": 4,
 "nbformat_minor": 4
}
