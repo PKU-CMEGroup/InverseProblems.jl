{
 "cells": [
  {
   "cell_type": "code",
   "execution_count": 1,
   "metadata": {},
   "outputs": [
    {
     "data": {
      "text/plain": [
       "1"
      ]
     },
     "execution_count": 1,
     "metadata": {},
     "output_type": "execute_result"
    }
   ],
   "source": [
    "Threads.nthreads()"
   ]
  },
  {
   "cell_type": "code",
   "execution_count": 2,
   "metadata": {},
   "outputs": [
    {
     "data": {
      "text/plain": [
       "Barotropic_run (generic function with 1 method)"
      ]
     },
     "execution_count": 2,
     "metadata": {},
     "output_type": "execute_result"
    }
   ],
   "source": [
    "using NNGCM\n",
    "using LinearAlgebra\n",
    "using Random\n",
    "using Distributions\n",
    "using JLD2\n",
    "include(\"Barotropic.jl\")"
   ]
  },
  {
   "cell_type": "markdown",
   "metadata": {},
   "source": [
    "# Barotropic flow\n",
    "\n",
    "\n",
    "The barotropic vorticity equation describes the evolution of a non-divergent, incompressible flow on the surface of the earth:\n",
    "\n",
    "$$\n",
    "\\begin{align*}\n",
    "        &\\frac{\\partial \\omega}{\\partial t} = - v \\cdot \\nabla (\\omega + f), \\\\\n",
    "        &\\nabla^2\\psi = \\omega \\qquad v = k \\times \\nabla\\psi,\n",
    "\\end{align*}\n",
    "$$\n",
    "\n",
    "where $\\omega$ and $\\psi$ are vorticity and streamfunction, respectively. $v$ is the non-divergent flow velocity, $k$ is the unit vector in the radial direction, and $f = 2\\Omega \\sin(\\phi)$ is the Coriolis force, depending on the latitude $\\phi$. The angular velocity is $\\Omega = 7.292\\times10^5 s^{-1}$.\n"
   ]
  },
  {
   "cell_type": "markdown",
   "metadata": {},
   "source": [
    "# Spherical coordinates \n",
    "\n",
    "\n",
    "Longitude $\\lambda$ ranges from $0$ to $2\\pi$, and latitude $\\phi$ from $−\\pi/2$ at the South Pole to $\\pi/2$ at the North Pole. The transformation is \n",
    "\n",
    "$$\n",
    "\\begin{align*}\n",
    "x &= r \\cos \\lambda \\cos \\phi \\\\\n",
    "y &= r \\sin \\lambda \\cos \\phi \\\\\n",
    "z &= r \\sin \\phi\n",
    "\\end{align*}\n",
    "$$\n",
    "\n",
    "Let $v_{\\lambda}$ be the zonal (eastward) velocity and $v_{\\phi}$ be the northward velocity at constant radius.\n",
    "The velocity becomes \n",
    "$$v =  v_{\\lambda} e_{\\lambda} + v_{\\phi}e_{\\phi} \\qquad e_{\\lambda} = (- \\sin \\lambda,\\, \\cos \\lambda,\\,  0)\\quad  e_{\\phi} = (-\\cos \\lambda \\sin \\phi, \\, -\\sin \\lambda \\sin \\phi, \\, \\cos \\phi) $$\n",
    "\n",
    "\n",
    "The divergence operator and the radial component of the vorticity operator on the sphere are \n",
    "$$\n",
    "\\begin{align*}\n",
    "\\nabla v = \\frac{1}{R\\cos \\phi} \\frac{\\partial v_{\\lambda}}{\\partial \\lambda} + \\frac{1}{R\\cos \\phi} \\frac{\\partial }{\\partial \\phi} \\Big(v_{\\phi} \\cos \\phi \\Big)\\\\\n",
    "\\nabla \\times v = \\frac{1}{R\\cos \\phi} \\frac{\\partial v_{\\phi}}{\\partial \\lambda} - \\frac{1}{R\\cos \\phi} \\frac{\\partial }{\\partial \\phi} \\Big(v_{\\lambda} \\cos \\phi \\Big)\n",
    "\\end{align*}\n",
    "$$\n",
    "here $v$ can be an arbitrary vector field on the sphere.\n",
    "\n",
    "The flow filed can be reconstitued from the streamfunction $\\psi$ as \n",
    "\n",
    "$$v_{\\lambda} = -\\frac{1}{R}\\frac{\\partial \\psi}{\\partial \\phi} \\qquad v_{\\psi} = \\frac{1}{R\\cos\\phi}\\frac{\\partial \\psi}{\\partial \\lambda}$$\n",
    "\n",
    "The barotropic vorticity equation can be rewritten as \n",
    "\n",
    "$$\n",
    "\\begin{align*}\n",
    "        \\frac{\\partial \\omega}{\\partial t} &= -  \\nabla v(\\omega + f) \\\\\n",
    "                                           &= -  \\frac{1}{R\\cos \\phi} \\frac{\\partial v_{\\lambda}(\\omega + f)}{\\partial \\lambda} - \\frac{1}{R\\cos \\phi} \\frac{\\partial }{\\partial \\phi} \\Big(v_{\\phi}(\\omega + f) \\cos \\phi \\Big)\\\\\n",
    "                                           &= -  \\frac{ v_{\\lambda}}{R\\cos \\phi} \\frac{\\partial(\\omega + f)}{\\partial \\lambda} - \\frac{v_{\\phi}}{R} \\frac{\\partial (\\omega + f)}{\\partial \\phi}\\\\\n",
    "                                           &= \\frac{ 1}{R^2\\cos \\phi} \\Big[\\frac{\\partial \\psi}{\\partial \\phi}\\frac{\\partial(\\omega + f)}{\\partial \\lambda} - \\frac{\\partial \\psi}{\\partial \\lambda}\\frac{\\partial (\\omega + f)}{\\partial \\phi}\\Big]\\\\\n",
    "\\end{align*}\n",
    "$$\n",
    "\n",
    "We use the Earth radius $R = 6.3712\\times10^6~m$."
   ]
  },
  {
   "cell_type": "markdown",
   "metadata": {},
   "source": [
    "## Random log-Gaussian Field\n",
    "\n",
    "Assuming that $\\log a(x, \\theta)$ is a centred Gaussian with covariance \n",
    "$$\\mathsf{C} = (-\\Delta + \\tau^2 )^{-d};$$\n",
    "here $-\\Delta$ denotes the Laplacian on $D$ subject to homogeneous Neumann boundary conditions on the space of spatial-mean zero functions, \n",
    "$\\tau > 0$ denotes the inverse length scale of the random field and $d  > 0$ determines its regularity.\n",
    "The Gaussian field can be represented by the Karhunen–Loève (KL) expansion\n",
    "\n",
    "\\begin{equation}\n",
    "\\label{eq:KL-2d}\n",
    "    \\log a(x,\\theta) = \\sum_{l\\in K} \\theta_{(l)}\\sqrt{\\lambda_l} \\psi_l(x),\n",
    "\\end{equation}\n",
    "where $K = \\mathcal{Z}^{0+}\\times\\mathcal{Z}^{0+} \\setminus \\{0,0\\}$, and the eigenpairs are of the form\n",
    "\n",
    "$$\n",
    "\\begin{equation*}\n",
    "    \\psi_l(x) = \\begin{cases}\n",
    "                 \\sqrt{2}\\cos(\\pi l_1 x_1)              & l_2 = 0\\\\\n",
    "                 \\sqrt{2}\\cos(\\pi l_2 x_2)              & l_1 = 0\\\\\n",
    "                 2\\cos(\\pi l_1 x_1)\\cos(\\pi l_2 x_2)    & \\textrm{otherwise}\\\\\n",
    "                 \\end{cases},\n",
    "                 \\qquad \\lambda_l = (\\pi^2 |l|^2 + \\tau^2)^{-d}\n",
    "\\end{equation*}\n",
    "$$\n",
    "\n",
    "and $\\theta_{(l)} \\sim \\mathcal{N}(0,1)$ i.i.d. The KL expansion can be rewritten as a sum over $\\mathcal{Z}^{0+}$ rather than a lattice: \n",
    "\n",
    "$$\n",
    "\\begin{equation}\n",
    "\\label{eq:KL-1d}\n",
    "    \\log a(x,\\theta) = \\sum_{k\\in \\mathcal{Z}^{0+}} \\theta_{(k)}\\sqrt{\\lambda_k} \\psi_k(x),\n",
    "\\end{equation}\n",
    "$$\n",
    "\n",
    "where the eigenvalues $\\lambda_k$ are in descending order.\n",
    "In practice, we truncate this sum to $N_\\theta$ terms, based on the\n",
    "largest $N_\\theta$ eigenvalues, and hence $\\theta\\in\\mathcal{R}^{N_\\theta}$.\n",
    " \n"
   ]
  },
  {
   "cell_type": "markdown",
   "metadata": {},
   "source": [
    "## Inverse Problem Setup\n",
    "\n",
    "For the inverse problem, we recover the log-permeability field $\\log a_{{ref}}(x)$ from the observation \n",
    "$y_{ref}$, which consists of pointwise measurements of the \n",
    "pressure value $p(x)$ at $49$ equidistant points in the domain. \n",
    "\n",
    "\n",
    "We generate a truth random field $\\log a_{{ref}}(x)$ with $\\theta \\sim \\mathcal{N}(0, I)$ in $\\mathcal{R}^{256}$ \n",
    "(i.e. we use the first $256$ KL modes) to construct the observation $y_{obs}$.\n",
    "\n",
    "$5\\%$ Gaussian random noises are added to make data $y_{obs}$:\n",
    "\n",
    "$$\n",
    "\\begin{equation}\n",
    "    y_{obs} = y_{ref} + \\epsilon \\odot  \\mathcal{N}(0, I),\n",
    "\\end{equation}\n",
    "$$\n",
    "\n",
    "where $\\epsilon = 5\\% y_{ref}$, and $\\odot$ denotes element-wise multiplication.\n",
    "\n"
   ]
  },
  {
   "cell_type": "code",
   "execution_count": 3,
   "metadata": {},
   "outputs": [],
   "source": [
    "num_fourier, nθ = 42, 64 #85, 128\n",
    "Δt, end_time =  1800, 86400\n",
    "n_obs_frames = 2\n",
    "obs_time, nobs = Int64(end_time/n_obs_frames), 50\n",
    "antisymmetric = true\n",
    "trunc_N = 7\n",
    "N_θ = (trunc_N+2)*trunc_N\n",
    "N_y = nobs*n_obs_frames + N_θ \n",
    "barotropic = Setup_Param(num_fourier, nθ, Δt, end_time, n_obs_frames, nobs, antisymmetric, N_y, trunc_N);\n",
    "\n"
   ]
  },
  {
   "cell_type": "markdown",
   "metadata": {},
   "source": [
    "## Inverse Problem Setup\n",
    "\n",
    "Using this data, we consider an incomplete parameterization scenarios:  \n",
    "* solving for the first $63$ spherical modes ($N_r=7$) \n",
    "        \n",
    "        \n",
    "GMKI is applied and initialized with $\\theta_0 \\sim \\mathcal{N}(0,  I)$. \n",
    "The observation error is estimated to be $\\eta \\sim \\mathcal{N}(0, I)$. \n",
    "\n"
   ]
  },
  {
   "cell_type": "code",
   "execution_count": 4,
   "metadata": {},
   "outputs": [],
   "source": [
    "include(\"Barotropic.jl\")\n",
    "mesh, obs_raw_data = Barotropic_Main(barotropic, nothing; init_type = \"truth\");\n",
    "# mesh, obs_raw_data = Barotropic_Main(barotropic, barotropic.init_data; init_type = \"spec_vor\");"
   ]
  },
  {
   "cell_type": "code",
   "execution_count": 5,
   "metadata": {},
   "outputs": [],
   "source": [
    "import PyPlot\n",
    "function NNGCM.Lat_Lon_Pcolormesh(mesh::Spectral_Spherical_Mesh, grid_dat::Array{Float64,3}, level::Int64, obs_coord::Array{Int64, 2}; \n",
    "        vmin = nothing, vmax = nothing, save_file_name::String = \"None\", cmap=\"viridis\", antisymmetric::Bool=false)\n",
    "    \n",
    "    λc, θc = mesh.λc, mesh.θc\n",
    "    nλ, nθ = length(λc), length(θc)\n",
    "    λc_deg, θc_deg = λc*180/pi, θc*180/pi\n",
    "    \n",
    "    X,Y = repeat(λc_deg, 1, nθ), repeat(θc_deg, 1, nλ)'\n",
    "    \n",
    "    \n",
    "    PyPlot.pcolormesh(X, Y, grid_dat[:,:,level], shading= \"gouraud\", vmin=vmin, vmax=vmax, cmap=cmap)\n",
    "    PyPlot.colorbar()\n",
    "    x_obs, y_obs = λc_deg[obs_coord[:,1]], θc_deg[obs_coord[:,2]]\n",
    "    PyPlot.scatter(x_obs, y_obs, color=\"black\")\n",
    "    \n",
    "    if antisymmetric\n",
    "        x_obs_anti, y_obs_anti = λc_deg[obs_coord[:,1]], θc_deg[end + 1 .- obs_coord[:,2]]\n",
    "        PyPlot.scatter(x_obs_anti, y_obs_anti, facecolors=\"none\", edgecolors=\"black\")\n",
    "    end\n",
    "    \n",
    "    PyPlot.axis(\"equal\")\n",
    "    PyPlot.xlabel(\"Longitude\")\n",
    "    PyPlot.ylabel(\"Latitude\")\n",
    "    PyPlot.tight_layout()\n",
    "    \n",
    "    if save_file_name != \"None\"\n",
    "        PyPlot.savefig(save_file_name)\n",
    "        PyPlot.close(\"all\")\n",
    "    end\n",
    "    \n",
    "end\n"
   ]
  },
  {
   "cell_type": "code",
   "execution_count": 6,
   "metadata": {},
   "outputs": [],
   "source": [
    "obs_coord = barotropic.obs_coord\n",
    "n_obs_frames = barotropic.n_obs_frames\n",
    "antisymmetric = barotropic.antisymmetric\n",
    "for i_obs = 1:n_obs_frames\n",
    "    Lat_Lon_Pcolormesh(mesh, obs_raw_data[\"vel_u\"][i_obs], 1, obs_coord; save_file_name =   \"Figs/Barotropic_u-\"*string(i_obs)*\".pdf\", cmap = \"viridis\", antisymmetric=antisymmetric)\n",
    "end     \n"
   ]
  },
  {
   "cell_type": "code",
   "execution_count": 8,
   "metadata": {},
   "outputs": [
    {
     "name": "stderr",
     "output_type": "stream",
     "text": [
      "┌ Info: (\"observation error = \", 3.0311782675072024e-14)\n",
      "└ @ Main In[8]:17\n"
     ]
    },
    {
     "data": {
      "image/png": "[encoded data removed]",
      "text/plain": [
       "PyPlot.Figure(PyObject <Figure size 640x480 with 1 Axes>)"
      ]
     },
     "metadata": {},
     "output_type": "display_data"
    }
   ],
   "source": [
    "# Check the mirror solution\n",
    "grid_vor_mirror = -barotropic.grid_vor[:, end:-1:1,  :]\n",
    "spe_vor_mirror = similar(barotropic.spe_vor_b)\n",
    "Trans_Grid_To_Spherical!(mesh, grid_vor_mirror, spe_vor_mirror)\n",
    "    \n",
    "mesh, obs_raw_data_mirror = Barotropic_Main(barotropic, grid_vor_mirror; init_type = \"grid_vor\");\n",
    "for i_obs = 1:n_obs_frames\n",
    "    Lat_Lon_Pcolormesh(mesh, obs_raw_data_mirror[\"vel_u\"][i_obs], 1, obs_coord; save_file_name =   \"Figs/Barotropic_u-\"*string(i_obs)*\"-mirror.pdf\", cmap = \"viridis\", antisymmetric=antisymmetric)\n",
    "end \n",
    "\n",
    "Lat_Lon_Pcolormesh(mesh, grid_vor_mirror, 1; save_file_name = \"Figs/Barotropic_vor0_mirror.pdf\", cmap = \"viridis\")\n",
    "init_data_mirror = spe_to_param(spe_vor_mirror-barotropic.spe_vor_b, barotropic.trunc_N; radius=barotropic.radius)\n",
    "\n",
    "PyPlot.plot(barotropic.init_data, label=\"init_data\")\n",
    "PyPlot.plot(init_data_mirror, label=\"init_data_mirror\")\n",
    "PyPlot.legend()\n",
    "@info \"observation error = \", norm(convert_obs(barotropic.obs_coord,obs_raw_data,antisymmetric=true) - convert_obs(barotropic.obs_coord,obs_raw_data_mirror,antisymmetric=true))"
   ]
  },
  {
   "cell_type": "markdown",
   "metadata": {},
   "source": [
    "# GMKI"
   ]
  },
  {
   "cell_type": "code",
   "execution_count": 7,
   "metadata": {},
   "outputs": [
    {
     "data": {
      "text/plain": [
       "aug_forward (generic function with 1 method)"
      ]
     },
     "execution_count": 7,
     "metadata": {},
     "output_type": "execute_result"
    }
   ],
   "source": [
    "function aug_forward(barotropic::Setup_Param{FT, IT, CT}, θ::Array{FT, 1}) where {FT<:AbstractFloat, IT<:Int, CT<:Complex}\n",
    "      \n",
    "    mesh, obs_raw_data = Barotropic_Main(barotropic, θ; init_type = \"spec_vor\")\n",
    "    y = convert_obs(barotropic.obs_coord, obs_raw_data; antisymmetric=barotropic.antisymmetric)\n",
    "    return [y ; θ]\n",
    "end"
   ]
  },
  {
   "cell_type": "code",
   "execution_count": 8,
   "metadata": {},
   "outputs": [
    {
     "ename": "LoadError",
     "evalue": "UndefVarError: barotropic not defined",
     "output_type": "error",
     "traceback": [
      "UndefVarError: barotropic not defined",
      "",
      "Stacktrace:",
      " [1] top-level scope",
      "   @ In[8]:24",
      " [2] eval",
      "   @ ./boot.jl:373 [inlined]",
      " [3] include_string(mapexpr::typeof(REPL.softscope), mod::Module, code::String, filename::String)",
      "   @ Base ./loading.jl:1196"
     ]
    }
   ],
   "source": [
    "include(\"Barotropic.jl\")\n",
    "include(\"../../Inversion/Plot.jl\")\n",
    "include(\"../../Inversion/KalmanInversion.jl\")\n",
    "# compute posterior distribution by UKI\n",
    "N_iter = 10\n",
    "update_freq = 1\n",
    "N_modes = 3\n",
    "θ0_w  = fill(1.0, N_modes)/N_modes\n",
    "\n",
    "\n",
    "\n",
    "θ0_mean, θθ0_cov  = zeros(N_modes, N_θ), zeros(N_modes, N_θ, N_θ)\n",
    "Random.seed!(63);\n",
    "σ_0 = 1.0\n",
    "for i = 1:N_modes\n",
    "    θ0_mean[i, :]    .= rand(Normal(0, σ_0), N_θ) \n",
    "    θθ0_cov[i, :, :] .= Array(Diagonal(fill(1.0^2, N_θ)))\n",
    "end\n",
    "μ_0 = zeros(Float64, N_θ)  # prior/initial mean \n",
    "Σ_0 = Array(Diagonal(fill(σ_0^2, N_θ)))  # prior/initial covariance\n",
    "\n",
    "\n",
    "\n",
    "y = convert_obs(barotropic.obs_coord, obs_raw_data; antisymmetric=barotropic.antisymmetric)\n",
    "N_y = barotropic.nobs * barotropic.n_obs_frames\n",
    "Σ_η = Array(Diagonal(fill(1.0, N_y)))\n",
    "\n",
    "aug_y = [y; μ_0]\n",
    "aug_Σ_η = [Σ_η zeros(Float64, N_y, N_θ); zeros(Float64, N_θ, N_y) Σ_0]  \n",
    "\n",
    "\n",
    "\n",
    "\n",
    "γ = 1.0\n",
    "# Δt = γ/(1+γ)\n",
    "# @time ukiobj = GMUKI_Run(barotropic, aug_forward, θ0_w, θ0_mean, θθ0_cov, aug_y, aug_Σ_η, γ, update_freq, N_iter; unscented_transform=\"modified-2n+1\")\n",
    "# @save \"ukiobj.jld2\" ukiobj\n",
    "\n",
    "@load \"ukiobj.jld2\" ukiobj"
   ]
  },
  {
   "cell_type": "code",
   "execution_count": 9,
   "metadata": {},
   "outputs": [
    {
     "ename": "LoadError",
     "evalue": "UndefVarError: barotropic not defined",
     "output_type": "error",
     "traceback": [
      "UndefVarError: barotropic not defined",
      "",
      "Stacktrace:",
      " [1] top-level scope",
      "   @ In[9]:19",
      " [2] eval",
      "   @ ./boot.jl:373 [inlined]",
      " [3] include_string(mapexpr::typeof(REPL.softscope), mod::Module, code::String, filename::String)",
      "   @ Base ./loading.jl:1196"
     ]
    }
   ],
   "source": [
    "function plot_field(mesh::Spectral_Spherical_Mesh, grid_dat::Array{Float64,3}, level::Int64, clim, ax; cmap=\"viridis\")\n",
    "    \n",
    "    λc, θc = mesh.λc, mesh.θc\n",
    "    nλ, nθ = length(λc), length(θc)\n",
    "    λc_deg, θc_deg = λc*180/pi, θc*180/pi\n",
    "    \n",
    "    X,Y = repeat(λc_deg, 1, nθ), repeat(θc_deg, 1, nλ)'\n",
    "    \n",
    "    \n",
    "    return ax.pcolormesh(X, Y, grid_dat[:,:,level], shading= \"gouraud\", clim=clim, cmap=cmap)\n",
    "    \n",
    "end\n",
    "\n",
    "\n",
    "N_ens = 2N_θ + 1\n",
    "# visulize the log permeability field\n",
    "fig_vor, ax_vor = PyPlot.subplots(ncols = 4, sharex=true, sharey=true, figsize=(20,5))\n",
    "for ax in ax_vor ;  ax.set_xticks([]) ; ax.set_yticks([]) ; end\n",
    "color_lim = (minimum(barotropic.grid_vor), maximum(barotropic.grid_vor))\n",
    "\n",
    "plot_field(mesh, barotropic.grid_vor, 1, color_lim, ax_vor[1]) \n",
    "ax_vor[1].set_title(\"Truth\")\n",
    "\n",
    "spe_vor, grid_vor = copy(barotropic.spe_vor), copy(barotropic.grid_vor)\n",
    "\n",
    "\n",
    "Barotropic_ω0!(mesh, \"spec_vor\", ukiobj.θ_mean[N_iter][1,:], spe_vor, grid_vor; spe_vor_b = barotropic.spe_vor_b)\n",
    "plot_field(mesh, grid_vor, 1,  color_lim, ax_vor[2]) \n",
    "ax_vor[2].set_title(\"Mode 1\")\n",
    "\n",
    "Barotropic_ω0!(mesh, \"spec_vor\", ukiobj.θ_mean[N_iter][2,:], spe_vor, grid_vor; spe_vor_b = barotropic.spe_vor_b)\n",
    "plot_field(mesh, grid_vor, 1,  color_lim, ax_vor[3]) \n",
    "ax_vor[3].set_title(\"Mode 2\")\n",
    "\n",
    "Barotropic_ω0!(mesh, \"spec_vor\", ukiobj.θ_mean[N_iter][3,:], spe_vor, grid_vor; spe_vor_b = barotropic.spe_vor_b)\n",
    "plot_field(mesh, grid_vor, 1,  color_lim, ax_vor[4]) \n",
    "ax_vor[4].set_title(\"Mode 3\")\n",
    "\n",
    "\n",
    "fig_vor.tight_layout()\n",
    "fig_vor.savefig(\"Barotropic-2D-vor-LR.pdf\")\n",
    "\n",
    "\n",
    "\n",
    "\n",
    "\n"
   ]
  },
  {
   "cell_type": "code",
   "execution_count": 10,
   "metadata": {},
   "outputs": [
    {
     "ename": "LoadError",
     "evalue": "UndefVarError: barotropic not defined",
     "output_type": "error",
     "traceback": [
      "UndefVarError: barotropic not defined",
      "",
      "Stacktrace:",
      " [1] top-level scope",
      "   @ In[10]:5",
      " [2] eval",
      "   @ ./boot.jl:373 [inlined]",
      " [3] include_string(mapexpr::typeof(REPL.softscope), mod::Module, code::String, filename::String)",
      "   @ Base ./loading.jl:1196"
     ]
    }
   ],
   "source": [
    "N_ens = 2N_θ + 1\n",
    "fig, (ax1, ax2, ax3, ax4) = PyPlot.subplots(ncols=4, figsize=(20,5))\n",
    "ites = Array(LinRange(0, N_iter-1, N_iter))\n",
    "errors = zeros(Float64, (3, N_iter, N_modes))\n",
    "spe_vor, grid_vor = copy(barotropic.spe_vor), copy(barotropic.grid_vor)\n",
    "\n",
    "for m = 1:N_modes\n",
    "    for i = 1:N_iter\n",
    "        if m == N_modes\n",
    "            grid_vor_truth = barotropic.grid_vor\n",
    "        else\n",
    "            grid_vor_truth = barotropic.grid_vor[:, end:-1:1]\n",
    "        end\n",
    "        \n",
    "        \n",
    "        Barotropic_ω0!(mesh, \"spec_vor\", ukiobj.θ_mean[i][m,:], spe_vor, grid_vor; spe_vor_b = barotropic.spe_vor_b)\n",
    "        errors[1, i, m] = norm(grid_vor_truth - grid_vor)/norm(grid_vor_truth)\n",
    "        errors[2, i, m] = 0.5*(ukiobj.y_pred[i][m,:] - ukiobj.y)'*(ukiobj.Σ_η\\(ukiobj.y_pred[i][m,:] - ukiobj.y))\n",
    "        errors[3, i, m] = norm(ukiobj.θθ_cov[i][m,:,:])\n",
    "    end\n",
    "end\n",
    "\n",
    "linestyles = [\"o\"; \"x\"; \"s\"]\n",
    "markevery = 5\n",
    "for m = 1: N_modes\n",
    "    ax1.plot(ites, errors[1, :, m], marker=linestyles[m], color = \"C\"*string(m), fillstyle=\"none\", markevery=markevery, label= \"mode \"*string(m))\n",
    "end\n",
    "ax1.set_xlabel(\"Iterations\")\n",
    "ax1.set_ylabel(\"Rel. error of a(x)\")\n",
    "ax1.legend()\n",
    "\n",
    "for m = 1: N_modes\n",
    "    ax2.semilogy(ites, errors[2, :, m], marker=linestyles[m], color = \"C\"*string(m), fillstyle=\"none\", markevery=markevery, label= \"mode \"*string(m))\n",
    "end\n",
    "ax2.set_xlabel(\"Iterations\")\n",
    "ax2.set_ylabel(L\"\\Phi_R\")\n",
    "ax2.legend()\n",
    "\n",
    "for m = 1: N_modes\n",
    "    ax3.plot(ites, errors[3, :, m], marker=linestyles[m], color = \"C\"*string(m), fillstyle=\"none\", markevery=markevery, label= \"mode \"*string(m))\n",
    "end\n",
    "ax3.set_xlabel(\"Iterations\")\n",
    "ax3.set_ylabel(\"Frobenius norm of covariance\")\n",
    "ax3.legend()\n",
    "\n",
    "\n",
    "θ_w = exp.(hcat(ukiobj.logθ_w...))\n",
    "for m = 1: N_modes\n",
    "    ax4.plot(ites, θ_w[m, 1:N_iter], marker=linestyles[m], color = \"C\"*string(m), fillstyle=\"none\", markevery=markevery, label= \"mode \"*string(m))\n",
    "end\n",
    "ax4.set_xlabel(\"Iterations\")\n",
    "ax4.set_ylabel(\"Weights\")\n",
    "ax4.legend()\n",
    "fig.tight_layout()\n",
    "fig.savefig(\"Barotropic-2D-convergence.pdf\")\n",
    "\n",
    "\n"
   ]
  },
  {
   "cell_type": "code",
   "execution_count": 11,
   "metadata": {},
   "outputs": [
    {
     "ename": "LoadError",
     "evalue": "UndefVarError: barotropic not defined",
     "output_type": "error",
     "traceback": [
      "UndefVarError: barotropic not defined",
      "",
      "Stacktrace:",
      " [1] top-level scope",
      "   @ In[11]:2",
      " [2] eval",
      "   @ ./boot.jl:373 [inlined]",
      " [3] include_string(mapexpr::typeof(REPL.softscope), mod::Module, code::String, filename::String)",
      "   @ Base ./loading.jl:1196"
     ]
    }
   ],
   "source": [
    "fig, ax = PyPlot.subplots(ncols=1, figsize=(16,5))\n",
    "θ_ref = barotropic.init_data\n",
    "\n",
    "n_ind = 16\n",
    "θ_ind = Array(1:n_ind)\n",
    "ax.scatter(θ_ind, θ_ref[θ_ind], s = 100, marker=\"x\", color=\"black\", label=\"Truth\")\n",
    "for m = 1:N_modes\n",
    "    ax.scatter(θ_ind, ukiobj.θ_mean[N_iter][m,θ_ind], s = 50, marker=\"o\", color=\"C\"*string(m), facecolors=\"none\", label=\"Mode \"*string(m))\n",
    "end\n",
    "\n",
    "Nx = 1000\n",
    "for i in θ_ind\n",
    "    θ_min = minimum(ukiobj.θ_mean[N_iter][:,i] .- 3sqrt.(ukiobj.θθ_cov[N_iter][:,i,i]))\n",
    "    θ_max = maximum(ukiobj.θ_mean[N_iter][:,i] .+ 3sqrt.(ukiobj.θθ_cov[N_iter][:,i,i]))\n",
    "        \n",
    "    xxs = zeros(N_modes, Nx)  \n",
    "    zzs = zeros(N_modes, Nx)  \n",
    "    for m =1:N_modes\n",
    "        xxs[m, :], zzs[m, :] = Gaussian_1d(ukiobj.θ_mean[N_iter][m,i], ukiobj.θθ_cov[N_iter][m,i,i], Nx, θ_min, θ_max)\n",
    "        zzs[m, :] *= exp(ukiobj.logθ_w[N_iter][m]) * 3\n",
    "    end\n",
    "    label = nothing\n",
    "    if i == 1\n",
    "        label = \"GMKI\"\n",
    "    end\n",
    "    ax.plot(sum(zzs, dims=1)' .+ i, xxs[1,:], linestyle=\"-\", color=\"C0\", fillstyle=\"none\", label=label)\n",
    "    ax.plot(fill(i, Nx), xxs[1,:], linestyle=\":\", color=\"black\", fillstyle=\"none\")\n",
    "        \n",
    "end\n",
    "ax.set_xticks(θ_ind)\n",
    "ax.set_xlabel(L\"\\theta\" * \" indices\")\n",
    "ax.legend(loc=\"center left\", bbox_to_anchor=(0.95, 0.5))\n",
    "fig.tight_layout()\n",
    "fig.savefig(\"Barotropic-2D-density.pdf\")\n",
    "\n"
   ]
  },
  {
   "cell_type": "code",
   "execution_count": null,
   "metadata": {},
   "outputs": [],
   "source": []
  }
 ],
 "metadata": {
  "kernelspec": {
   "display_name": "Julia 1.7.1",
   "language": "julia",
   "name": "julia-1.7"
  },
  "language_info": {
   "file_extension": ".jl",
   "mimetype": "application/julia",
   "name": "julia",
   "version": "1.7.1"
  }
 },
 "nbformat": 4,
 "nbformat_minor": 4
}
