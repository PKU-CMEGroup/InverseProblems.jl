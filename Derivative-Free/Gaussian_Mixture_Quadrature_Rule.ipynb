{
 "cells": [
  {
   "cell_type": "code",
   "execution_count": 1,
   "metadata": {},
   "outputs": [
    {
     "data": {
      "text/plain": [
       "visualization_2d (generic function with 1 method)"
      ]
     },
     "execution_count": 1,
     "metadata": {},
     "output_type": "execute_result"
    }
   ],
   "source": [
    "using Random\n",
    "using Distributions\n",
    "using LinearAlgebra\n",
    "using ForwardDiff\n",
    "include(\"../Inversion/Plot.jl\")\n",
    "include(\"../Inversion/GMGD.jl\")"
   ]
  },
  {
   "cell_type": "markdown",
   "metadata": {},
   "source": [
    "## Gaussian mixture\n",
    "\n",
    "This is not an inverse problem!\n",
    "\n",
    "$$\n",
    "e^{-\\Phi_r(\\theta)} \\propto \\sum_i w_i \\mathcal{N}(\\theta; m_i, C_i) \\\\\n",
    "\\Phi_r(\\theta) = - \\log\\Bigl( \\sum_i w_i \\mathcal{N}(\\theta; m_i, C_i) \\Bigr)\n",
    "$$\n",
    "\n"
   ]
  },
  {
   "cell_type": "code",
   "execution_count": 30,
   "metadata": {},
   "outputs": [
    {
     "data": {
      "text/plain": [
       "Gaussian_mixture_integral (generic function with 1 method)"
      ]
     },
     "execution_count": 30,
     "metadata": {},
     "output_type": "execute_result"
    }
   ],
   "source": [
    "function Gaussian_mixture_component(x, args)\n",
    "    _, x_mean, inv_sqrt_xx_cov = args\n",
    "    # C = L L.T\n",
    "    # C^-1 = L^-TL^-1\n",
    "    N_modes, N_x = size(x_mean)\n",
    "    ρ = zeros(N_modes)\n",
    "    for im = 1:N_modes\n",
    "        ρ[im] = exp(-0.5*(x-x_mean[im,:])'*(inv_sqrt_xx_cov[im]'*inv_sqrt_xx_cov[im]*(x-x_mean[im,:])))/abs(det(inv_sqrt_xx_cov[im]))/(2*π)^(N_x/2)\n",
    "    end\n",
    "    return ρ\n",
    "end\n",
    "\n",
    "\n",
    "function Gaussian_mixture_logrho(x, args)\n",
    "    x_w, x_mean, inv_sqrt_xx_cov = args\n",
    "    # C = L L.T\n",
    "    # C^-1 = L^-TL^-1\n",
    "    N_x = size(x_mean, 2)\n",
    "    ρ = 0\n",
    "    for im = 1:length(x_w)\n",
    "        ρ += x_w[im]*exp(-0.5*(x-x_mean[im,:])'*(inv_sqrt_xx_cov[im]'*inv_sqrt_xx_cov[im]*(x-x_mean[im,:])))/abs(det(inv_sqrt_xx_cov[im]))\n",
    "    end\n",
    "    return log( ρ ) - N_x/2*log(2*π)\n",
    "end\n",
    "\n",
    "\n",
    "\n",
    "function Gaussian_mixture_dlogrho(x, args)\n",
    "    return Gaussian_mixture_logrho(x, args), \n",
    "           ForwardDiff.gradient(x -> Gaussian_mixture_logrho(x, args), x), \n",
    "           ForwardDiff.hessian(x -> Gaussian_mixture_logrho(x, args), x)\n",
    "end\n",
    "\n",
    "\n",
    "function Gaussian_mixture_integral(x_lims, Ns, args)\n",
    "    x_w, x_mean, inv_sqrt_xx_cov = args\n",
    "    N_x = size(x_mean, 2)\n",
    "    ρlogρ   = zeros(N_modes, Ns...)\n",
    "    ρ∇logρ  = zeros(N_modes, N_x, Ns...)\n",
    "    ρ∇²logρ = zeros(N_modes, N_x, N_x, Ns...)\n",
    "    \n",
    "    \n",
    "    \n",
    "    dim = length(Ns)\n",
    "    xx = range(x_lims[1][1], stop=x_lims[1][2], length=Ns[1]); dx = xx[2] - xx[1]\n",
    "        \n",
    "    if dim == 1\n",
    "        \n",
    "        for i = 1:Ns[1]\n",
    "            ρ = Gaussian_mixture_component(xx[i], args)\n",
    "            logρ, ∇logρ, ∇²logρ = Gaussian_mixture_dlogrho(xx[i], args)\n",
    "            for im = 1:N_modes\n",
    "                    ρlogρ[im,i], ρ∇logρ[im,:,i], ρ∇²logρ[im,:,:,i] = ρ[im]*logρ, ρ[im]*∇logρ, ρ[im]*∇²logρ\n",
    "            end\n",
    "        end\n",
    "        ρlogρ_mean, ρ∇logρ_mean, ρ∇²logρ_mean = sum(ρlogρ, dims=2)*dx, sum(ρ∇logρ, dims=3)*dx, sum(ρ∇²logρ, dims=4)*dx\n",
    "    \n",
    "    else\n",
    "        \n",
    "        yy = range(x_lims[2][1], stop=x_lims[2][2], length=Ns[2]); dy = yy[2] - yy[1]\n",
    "        \n",
    "        for i = 1:Ns[1]\n",
    "            for j = 1:Ns[2]\n",
    "                ρ = Gaussian_mixture_component([xx[i];yy[j]], args)\n",
    "                logρ, ∇logρ, ∇²logρ = Gaussian_mixture_dlogrho([xx[i];yy[j]], args)\n",
    "                for im = 1:N_modes\n",
    "                    ρlogρ[im,i,j], ρ∇logρ[im,:,i,j], ρ∇²logρ[im,:,:,i,j] = ρ[im]*logρ, ρ[im]*∇logρ, ρ[im]*∇²logρ\n",
    "                end\n",
    "            end\n",
    "        end\n",
    "        ρlogρ_mean, ρ∇logρ_mean, ρ∇²logρ_mean = sum(ρlogρ, dims=[2,3])*dx*dy, sum(ρ∇logρ, dims=[3,4])*dx*dy, sum(ρ∇²logρ, dims=[4,5])*dx*dy\n",
    "    \n",
    "    end\n",
    "    \n",
    "    return ρlogρ_mean, ρ∇logρ_mean, ρ∇²logρ_mean\n",
    "    \n",
    "end\n"
   ]
  },
  {
   "cell_type": "code",
   "execution_count": 36,
   "metadata": {},
   "outputs": [
    {
     "name": "stderr",
     "output_type": "stream",
     "text": [
      "\u001b[36m\u001b[1m[ \u001b[22m\u001b[39m\u001b[36m\u001b[1mInfo: \u001b[22m\u001b[39m(\"qaudrature type = \", \"cubature_transform_o3\", \" ##############################\")\n",
      "\u001b[36m\u001b[1m[ \u001b[22m\u001b[39m\u001b[36m\u001b[1mInfo: \u001b[22m\u001b[39m(\"ρlogρ error = \", 0.04446712923564575, \" / \", 4.786664196658497)\n",
      "\u001b[36m\u001b[1m[ \u001b[22m\u001b[39m\u001b[36m\u001b[1mInfo: \u001b[22m\u001b[39m(\"ρ∇logρ error = \", 0.07147648098845928, \" / \", 0.7993108498824462)\n",
      "\u001b[36m\u001b[1m[ \u001b[22m\u001b[39m\u001b[36m\u001b[1mInfo: \u001b[22m\u001b[39m(\"ρ∇²logρ error = \", 0.10044221881246984, \" / \", 1.6288719243465815)\n",
      "\u001b[36m\u001b[1m[ \u001b[22m\u001b[39m\u001b[36m\u001b[1mInfo: \u001b[22m\u001b[39m(\"qaudrature type = \", \"cubature_transform_o5\", \" ##############################\")\n",
      "\u001b[36m\u001b[1m[ \u001b[22m\u001b[39m\u001b[36m\u001b[1mInfo: \u001b[22m\u001b[39m(\"ρlogρ error = \", 0.010203319923316344, \" / \", 4.786664196658497)\n",
      "\u001b[36m\u001b[1m[ \u001b[22m\u001b[39m\u001b[36m\u001b[1mInfo: \u001b[22m\u001b[39m(\"ρ∇logρ error = \", 0.03892244581725066, \" / \", 0.7993108498824462)\n",
      "\u001b[36m\u001b[1m[ \u001b[22m\u001b[39m\u001b[36m\u001b[1mInfo: \u001b[22m\u001b[39m(\"ρ∇²logρ error = \", 0.021176836614785338, \" / \", 1.6288719243465815)\n",
      "\u001b[36m\u001b[1m[ \u001b[22m\u001b[39m\u001b[36m\u001b[1mInfo: \u001b[22m\u001b[39m(\"qaudrature type = \", \"unscented_transform\", \" ##############################\")\n",
      "\u001b[36m\u001b[1m[ \u001b[22m\u001b[39m\u001b[36m\u001b[1mInfo: \u001b[22m\u001b[39m(\"ρlogρ error = \", 0.09356068773730782, \" / \", 4.786664196658497)\n",
      "\u001b[36m\u001b[1m[ \u001b[22m\u001b[39m\u001b[36m\u001b[1mInfo: \u001b[22m\u001b[39m(\"ρ∇logρ error = \", 0.3044183455122153, \" / \", 0.7993108498824462)\n",
      "\u001b[36m\u001b[1m[ \u001b[22m\u001b[39m\u001b[36m\u001b[1mInfo: \u001b[22m\u001b[39m(\"ρ∇²logρ error = \", 0.045699741538079736, \" / \", 1.6288719243465815)\n",
      "\u001b[36m\u001b[1m[ \u001b[22m\u001b[39m\u001b[36m\u001b[1mInfo: \u001b[22m\u001b[39m(\"qaudrature type = \", \"mean_point\", \" ##############################\")\n",
      "\u001b[36m\u001b[1m[ \u001b[22m\u001b[39m\u001b[36m\u001b[1mInfo: \u001b[22m\u001b[39m(\"ρlogρ error = \", 1.0891236579819608, \" / \", 4.786664196658497)\n",
      "\u001b[36m\u001b[1m[ \u001b[22m\u001b[39m\u001b[36m\u001b[1mInfo: \u001b[22m\u001b[39m(\"ρ∇logρ error = \", 0.2678806557624818, \" / \", 0.7993108498824462)\n",
      "\u001b[36m\u001b[1m[ \u001b[22m\u001b[39m\u001b[36m\u001b[1mInfo: \u001b[22m\u001b[39m(\"ρ∇²logρ error = \", 0.32744117257611427, \" / \", 1.6288719243465815)\n",
      "\u001b[36m\u001b[1m[ \u001b[22m\u001b[39m\u001b[36m\u001b[1mInfo: \u001b[22m\u001b[39m(\"qaudrature type = \", \"cubature_transform_o3\", \" ##############################\")\n",
      "\u001b[36m\u001b[1m[ \u001b[22m\u001b[39m\u001b[36m\u001b[1mInfo: \u001b[22m\u001b[39m(\"ρlogρ error = \", 0.04446712923564575, \" / \", 4.786664196658497)\n",
      "\u001b[36m\u001b[1m[ \u001b[22m\u001b[39m\u001b[36m\u001b[1mInfo: \u001b[22m\u001b[39m(\"ρ∇logρ error = \", 0.07147648098845928, \" / \", 0.7993108498824462)\n",
      "\u001b[36m\u001b[1m[ \u001b[22m\u001b[39m\u001b[36m\u001b[1mInfo: \u001b[22m\u001b[39m(\"ρ∇²logρ error = \", 0.10044221881246984, \" / \", 1.6288719243465815)\n",
      "\u001b[36m\u001b[1m[ \u001b[22m\u001b[39m\u001b[36m\u001b[1mInfo: \u001b[22m\u001b[39m(\"qaudrature type = \", \"cubature_transform_o5\", \" ##############################\")\n",
      "\u001b[36m\u001b[1m[ \u001b[22m\u001b[39m\u001b[36m\u001b[1mInfo: \u001b[22m\u001b[39m(\"ρlogρ error = \", 0.010203319923316344, \" / \", 4.786664196658497)\n",
      "\u001b[36m\u001b[1m[ \u001b[22m\u001b[39m\u001b[36m\u001b[1mInfo: \u001b[22m\u001b[39m(\"ρ∇logρ error = \", 0.03892244581725073, \" / \", 0.7993108498824462)\n",
      "\u001b[36m\u001b[1m[ \u001b[22m\u001b[39m\u001b[36m\u001b[1mInfo: \u001b[22m\u001b[39m(\"ρ∇²logρ error = \", 0.0211768366147854, \" / \", 1.6288719243465815)\n",
      "\u001b[36m\u001b[1m[ \u001b[22m\u001b[39m\u001b[36m\u001b[1mInfo: \u001b[22m\u001b[39m(\"qaudrature type = \", \"unscented_transform\", \" ##############################\")\n",
      "\u001b[36m\u001b[1m[ \u001b[22m\u001b[39m\u001b[36m\u001b[1mInfo: \u001b[22m\u001b[39m(\"ρlogρ error = \", 0.09356068773730782, \" / \", 4.786664196658497)\n",
      "\u001b[36m\u001b[1m[ \u001b[22m\u001b[39m\u001b[36m\u001b[1mInfo: \u001b[22m\u001b[39m(\"ρ∇logρ error = \", 0.3044183455122153, \" / \", 0.7993108498824462)\n",
      "\u001b[36m\u001b[1m[ \u001b[22m\u001b[39m\u001b[36m\u001b[1mInfo: \u001b[22m\u001b[39m(\"ρ∇²logρ error = \", 0.045699741538083496, \" / \", 1.6288719243465815)\n",
      "\u001b[36m\u001b[1m[ \u001b[22m\u001b[39m\u001b[36m\u001b[1mInfo: \u001b[22m\u001b[39m(\"qaudrature type = \", \"mean_point\", \" ##############################\")\n",
      "\u001b[36m\u001b[1m[ \u001b[22m\u001b[39m\u001b[36m\u001b[1mInfo: \u001b[22m\u001b[39m(\"ρlogρ error = \", 1.0891236579819608, \" / \", 4.786664196658497)\n",
      "\u001b[36m\u001b[1m[ \u001b[22m\u001b[39m\u001b[36m\u001b[1mInfo: \u001b[22m\u001b[39m(\"ρ∇logρ error = \", 0.2678806557624818, \" / \", 0.7993108498824462)\n",
      "\u001b[36m\u001b[1m[ \u001b[22m\u001b[39m\u001b[36m\u001b[1mInfo: \u001b[22m\u001b[39m(\"ρ∇²logρ error = \", 0.32744117257611427, \" / \", 1.6288719243465815)\n"
     ]
    }
   ],
   "source": [
    "# Gaussian mixture\n",
    "N_modes = 2\n",
    "x_w, x_mean = [0.2;0.8], [1.0 2.0; 3.0 1.0] \n",
    "\n",
    "N_modes, N_x = size(x_mean)\n",
    "\n",
    "xx_cov = zeros(N_modes, 2, 2)\n",
    "for im = 1:N_modes\n",
    "    xx_cov[im,:,:] += I\n",
    "end\n",
    "\n",
    "x_lims, Ns = [[minimum(x_mean[1,:])-5; maximum(x_mean[1,:])+5], [minimum(x_mean[2,:])-5, maximum(x_mean[2,:])+5]], [500,500]\n",
    "\n",
    "for compute_sqrt_matrix_type in [\"Cholesky\", \"SVD\"]\n",
    "    sqrt_xx_cov, inv_sqrt_xx_cov = [], []\n",
    "    for im = 1:N_modes\n",
    "        sqrt_cov, inv_sqrt_cov = compute_sqrt_matrix(xx_cov[im,:,:]; type=compute_sqrt_matrix_type) \n",
    "        push!(sqrt_xx_cov, sqrt_cov)\n",
    "        push!(inv_sqrt_xx_cov, inv_sqrt_cov) \n",
    "    end\n",
    "    \n",
    "    # compute reference\n",
    "    args = (x_w, x_mean, inv_sqrt_xx_cov)\n",
    "    ρlogρ_mean_ref, ρ∇logρ_mean_ref, ρ∇²logρ_mean_ref = Gaussian_mixture_integral(x_lims, Ns, args)\n",
    "\n",
    "    c_weight = 0.1 \n",
    "\n",
    "    for quadrature_type in [\"cubature_transform_o3\", \"cubature_transform_o5\", \"unscented_transform\", \"mean_point\"]\n",
    "        _, c_weights_GM, mean_weights_GM = generate_quadrature_rule(N_x, quadrature_type; c_weight=c_weight)\n",
    "        logρ_mean, ∇logρ_mean, ∇²logρ_mean = compute_logρ_gm_expectation(x_w, x_mean, sqrt_xx_cov, inv_sqrt_xx_cov, c_weights_GM, mean_weights_GM)\n",
    "        \n",
    "        @info \"qaudrature type = \", quadrature_type, \" ##############################\"\n",
    "        @info \"ρlogρ error = \", norm(logρ_mean - ρlogρ_mean_ref), \" / \", norm(ρlogρ_mean_ref)\n",
    "        @info \"ρ∇logρ error = \", norm(∇logρ_mean - ρ∇logρ_mean_ref), \" / \", norm(ρ∇logρ_mean_ref)\n",
    "        @info \"ρ∇²logρ error = \", norm(∇²logρ_mean - ρ∇²logρ_mean_ref), \" / \", norm(ρ∇²logρ_mean_ref)\n",
    "    end\n",
    "end\n"
   ]
  },
  {
   "cell_type": "code",
   "execution_count": null,
   "metadata": {},
   "outputs": [],
   "source": []
  }
 ],
 "metadata": {
  "kernelspec": {
   "display_name": "Julia 1.9.3",
   "language": "julia",
   "name": "julia-1.9"
  },
  "language_info": {
   "file_extension": ".jl",
   "mimetype": "application/julia",
   "name": "julia",
   "version": "1.9.3"
  }
 },
 "nbformat": 4,
 "nbformat_minor": 4
}
